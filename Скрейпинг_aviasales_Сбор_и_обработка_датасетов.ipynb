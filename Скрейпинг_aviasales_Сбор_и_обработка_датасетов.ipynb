{
 "cells": [
  {
   "cell_type": "code",
   "execution_count": 2,
   "id": "cfd553fc",
   "metadata": {},
   "outputs": [
    {
     "name": "stdout",
     "output_type": "stream",
     "text": [
      "Requirement already satisfied: selenium==3.141.0 in c:\\users\\polin\\anaconda3\\lib\\site-packages (3.141.0)\n",
      "Requirement already satisfied: urllib3 in c:\\users\\polin\\anaconda3\\lib\\site-packages (from selenium==3.141.0) (1.26.14)\n"
     ]
    }
   ],
   "source": [
    "!pip install selenium==3.141.0"
   ]
  },
  {
   "cell_type": "code",
   "execution_count": 530,
   "id": "bb1503f0",
   "metadata": {},
   "outputs": [],
   "source": [
    "import requests\n",
    "from selenium import webdriver\n",
    "from selenium.webdriver import Chrome\n",
    "from selenium.webdriver.common.keys import Keys\n",
    "from selenium.webdriver.support.ui import WebDriverWait as wait\n",
    "from selenium.webdriver.support import expected_conditions as expected_conditions\n",
    "from selenium.common.exceptions import NoSuchElementException\n",
    "from bs4 import BeautifulSoup\n",
    "from time import sleep\n",
    "from tqdm import tqdm\n",
    "import statistics"
   ]
  },
  {
   "cell_type": "code",
   "execution_count": 54,
   "id": "484f4618",
   "metadata": {},
   "outputs": [],
   "source": [
    "import os\n",
    "os.chmod('C:/Рабочий стол/chromedriver/chromedriver.exe', 0o755)"
   ]
  },
  {
   "cell_type": "code",
   "execution_count": 55,
   "id": "07038dc3",
   "metadata": {},
   "outputs": [],
   "source": [
    "browser = Chrome('C:/Рабочий стол/chromedriver/chromedriver.exe') "
   ]
  },
  {
   "cell_type": "code",
   "execution_count": 154,
   "id": "eeab85f3",
   "metadata": {},
   "outputs": [],
   "source": [
    "url = 'https://www.aviasales.ru/search/GOJ2303DXB1'\n",
    "browser.get(url)"
   ]
  },
  {
   "cell_type": "code",
   "execution_count": 155,
   "id": "824294c7",
   "metadata": {},
   "outputs": [
    {
     "name": "stdout",
     "output_type": "stream",
     "text": [
      "0\n",
      "1\n",
      "2\n",
      "3\n",
      "4\n"
     ]
    }
   ],
   "source": [
    "soup = BeautifulSoup(browser.page_source, 'html')\n",
    "ticket_price = []\n",
    "luggage = []\n",
    "flight_time = []\n",
    "all_tickets =soup.find_all('div', class_=\"s__LFCEUVt95j7o8KHhg4_u s__rkxHGR99g7N6rg1wEzm8 s__wfLcPf6IF1Ayy7uJmdtH\")\n",
    "times = soup.find_all('span', class_ = 's__Khbz2VzN7C970CDuunwZ')\n",
    "things = soup.find_all('div', class_ = 's__ZsJorCPi_c9EkmaJ6Xms')\n",
    "for p in range(5):\n",
    "    print(p)\n",
    "    for ticket in all_tickets:\n",
    "        ticket_price.append(ticket.find('span', class_ = 's__wRhMOEwg2Ub7G1CotYcY').text.replace('\\u202f', '').replace('\\u2009', '').replace('₽',''))\n",
    "    for time in times:\n",
    "        flight_time.append(time.text.replace('\\u200a', '').replace('В пути: ', ''))\n",
    "    for thing in things :\n",
    "        try: \n",
    "            luggage.append(thing.find('span', class_ = 's__wRhMOEwg2Ub7G1CotYcY').text.replace('\\u202f', '').replace('\\u2009', '').replace('₽', ''))\n",
    "        except:\n",
    "            luggage.append(None)\n",
    "    browser.find_element_by_xpath('//button[@type=\"button\"]').click()\n",
    "    sleep(4)"
   ]
  },
  {
   "cell_type": "code",
   "execution_count": 156,
   "id": "d635b351",
   "metadata": {},
   "outputs": [
    {
     "name": "stdout",
     "output_type": "stream",
     "text": [
      "['4299', '10290', '1219', '8207', '8534', '8588', '4970', '4970', '6248', '5220', '4299', '10290', '1219', '8207', '8534', '8588', '4970', '4970', '6248', '5220', '4299', '10290', '1219', '8207', '8534', '8588', '4970', '4970', '6248', '5220', '4299', '10290', '1219', '8207', '8534', '8588', '4970', '4970', '6248', '5220', '4299', '10290', '1219', '8207', '8534', '8588', '4970', '4970', '6248', '5220']\n"
     ]
    }
   ],
   "source": [
    "#luggage = list(filter(lambda x: x is not None, luggage))\n",
    "print(luggage)"
   ]
  },
  {
   "cell_type": "code",
   "execution_count": 157,
   "id": "332bb192",
   "metadata": {},
   "outputs": [],
   "source": [
    "def convert_to_minutes(s):\n",
    "    parts = s.split()\n",
    "    total_minutes = 0\n",
    "    for part in parts:\n",
    "        if 'ч' in part:\n",
    "            total_minutes += int(part[:-1]) * 60 \n",
    "        elif 'д' in part:\n",
    "            total_minutes += int(part[:-1]) * 1440\n",
    "        elif 'м' in part:\n",
    "            total_minutes += int(part[:-1]) \n",
    "    return total_minutes"
   ]
  },
  {
   "cell_type": "code",
   "execution_count": 158,
   "id": "47d0cf0e",
   "metadata": {},
   "outputs": [
    {
     "data": {
      "text/html": [
       "<div>\n",
       "<style scoped>\n",
       "    .dataframe tbody tr th:only-of-type {\n",
       "        vertical-align: middle;\n",
       "    }\n",
       "\n",
       "    .dataframe tbody tr th {\n",
       "        vertical-align: top;\n",
       "    }\n",
       "\n",
       "    .dataframe thead th {\n",
       "        text-align: right;\n",
       "    }\n",
       "</style>\n",
       "<table border=\"1\" class=\"dataframe\">\n",
       "  <thead>\n",
       "    <tr style=\"text-align: right;\">\n",
       "      <th></th>\n",
       "      <th>ticket_price</th>\n",
       "      <th>flight_time</th>\n",
       "      <th>flight_time_minutes</th>\n",
       "      <th>mean_luggage_cost</th>\n",
       "      <th>city</th>\n",
       "    </tr>\n",
       "  </thead>\n",
       "  <tbody>\n",
       "    <tr>\n",
       "      <th>0</th>\n",
       "      <td>18042</td>\n",
       "      <td>1д 15ч 10м</td>\n",
       "      <td>2350</td>\n",
       "      <td>6254.5</td>\n",
       "      <td>Dubai</td>\n",
       "    </tr>\n",
       "    <tr>\n",
       "      <th>1</th>\n",
       "      <td>56353</td>\n",
       "      <td>9ч 25м</td>\n",
       "      <td>565</td>\n",
       "      <td>6254.5</td>\n",
       "      <td>Dubai</td>\n",
       "    </tr>\n",
       "    <tr>\n",
       "      <th>2</th>\n",
       "      <td>31358</td>\n",
       "      <td>12ч 30м</td>\n",
       "      <td>750</td>\n",
       "      <td>6254.5</td>\n",
       "      <td>Dubai</td>\n",
       "    </tr>\n",
       "    <tr>\n",
       "      <th>3</th>\n",
       "      <td>20063</td>\n",
       "      <td>1д 5ч 10м</td>\n",
       "      <td>1750</td>\n",
       "      <td>6254.5</td>\n",
       "      <td>Dubai</td>\n",
       "    </tr>\n",
       "    <tr>\n",
       "      <th>4</th>\n",
       "      <td>22223</td>\n",
       "      <td>1д 7ч 10м</td>\n",
       "      <td>1870</td>\n",
       "      <td>6254.5</td>\n",
       "      <td>Dubai</td>\n",
       "    </tr>\n",
       "    <tr>\n",
       "      <th>5</th>\n",
       "      <td>22898</td>\n",
       "      <td>1д 11ч 15м</td>\n",
       "      <td>2115</td>\n",
       "      <td>6254.5</td>\n",
       "      <td>Dubai</td>\n",
       "    </tr>\n",
       "    <tr>\n",
       "      <th>6</th>\n",
       "      <td>23195</td>\n",
       "      <td>16ч 15м</td>\n",
       "      <td>975</td>\n",
       "      <td>6254.5</td>\n",
       "      <td>Dubai</td>\n",
       "    </tr>\n",
       "    <tr>\n",
       "      <th>7</th>\n",
       "      <td>23419</td>\n",
       "      <td>18ч 15м</td>\n",
       "      <td>1095</td>\n",
       "      <td>6254.5</td>\n",
       "      <td>Dubai</td>\n",
       "    </tr>\n",
       "    <tr>\n",
       "      <th>8</th>\n",
       "      <td>23803</td>\n",
       "      <td>17ч 20м</td>\n",
       "      <td>1040</td>\n",
       "      <td>6254.5</td>\n",
       "      <td>Dubai</td>\n",
       "    </tr>\n",
       "    <tr>\n",
       "      <th>9</th>\n",
       "      <td>25440</td>\n",
       "      <td>20ч 15м</td>\n",
       "      <td>1215</td>\n",
       "      <td>6254.5</td>\n",
       "      <td>Dubai</td>\n",
       "    </tr>\n",
       "    <tr>\n",
       "      <th>10</th>\n",
       "      <td>18042</td>\n",
       "      <td>1д 15ч 10м</td>\n",
       "      <td>2350</td>\n",
       "      <td>6254.5</td>\n",
       "      <td>Dubai</td>\n",
       "    </tr>\n",
       "    <tr>\n",
       "      <th>11</th>\n",
       "      <td>56353</td>\n",
       "      <td>9ч 25м</td>\n",
       "      <td>565</td>\n",
       "      <td>6254.5</td>\n",
       "      <td>Dubai</td>\n",
       "    </tr>\n",
       "    <tr>\n",
       "      <th>12</th>\n",
       "      <td>31358</td>\n",
       "      <td>12ч 30м</td>\n",
       "      <td>750</td>\n",
       "      <td>6254.5</td>\n",
       "      <td>Dubai</td>\n",
       "    </tr>\n",
       "    <tr>\n",
       "      <th>13</th>\n",
       "      <td>20063</td>\n",
       "      <td>1д 5ч 10м</td>\n",
       "      <td>1750</td>\n",
       "      <td>6254.5</td>\n",
       "      <td>Dubai</td>\n",
       "    </tr>\n",
       "    <tr>\n",
       "      <th>14</th>\n",
       "      <td>22223</td>\n",
       "      <td>1д 7ч 10м</td>\n",
       "      <td>1870</td>\n",
       "      <td>6254.5</td>\n",
       "      <td>Dubai</td>\n",
       "    </tr>\n",
       "    <tr>\n",
       "      <th>15</th>\n",
       "      <td>22898</td>\n",
       "      <td>1д 11ч 15м</td>\n",
       "      <td>2115</td>\n",
       "      <td>6254.5</td>\n",
       "      <td>Dubai</td>\n",
       "    </tr>\n",
       "    <tr>\n",
       "      <th>16</th>\n",
       "      <td>23195</td>\n",
       "      <td>16ч 15м</td>\n",
       "      <td>975</td>\n",
       "      <td>6254.5</td>\n",
       "      <td>Dubai</td>\n",
       "    </tr>\n",
       "    <tr>\n",
       "      <th>17</th>\n",
       "      <td>23419</td>\n",
       "      <td>18ч 15м</td>\n",
       "      <td>1095</td>\n",
       "      <td>6254.5</td>\n",
       "      <td>Dubai</td>\n",
       "    </tr>\n",
       "    <tr>\n",
       "      <th>18</th>\n",
       "      <td>23803</td>\n",
       "      <td>17ч 20м</td>\n",
       "      <td>1040</td>\n",
       "      <td>6254.5</td>\n",
       "      <td>Dubai</td>\n",
       "    </tr>\n",
       "    <tr>\n",
       "      <th>19</th>\n",
       "      <td>25440</td>\n",
       "      <td>20ч 15м</td>\n",
       "      <td>1215</td>\n",
       "      <td>6254.5</td>\n",
       "      <td>Dubai</td>\n",
       "    </tr>\n",
       "    <tr>\n",
       "      <th>20</th>\n",
       "      <td>18042</td>\n",
       "      <td>1д 15ч 10м</td>\n",
       "      <td>2350</td>\n",
       "      <td>6254.5</td>\n",
       "      <td>Dubai</td>\n",
       "    </tr>\n",
       "    <tr>\n",
       "      <th>21</th>\n",
       "      <td>56353</td>\n",
       "      <td>9ч 25м</td>\n",
       "      <td>565</td>\n",
       "      <td>6254.5</td>\n",
       "      <td>Dubai</td>\n",
       "    </tr>\n",
       "    <tr>\n",
       "      <th>22</th>\n",
       "      <td>31358</td>\n",
       "      <td>12ч 30м</td>\n",
       "      <td>750</td>\n",
       "      <td>6254.5</td>\n",
       "      <td>Dubai</td>\n",
       "    </tr>\n",
       "    <tr>\n",
       "      <th>23</th>\n",
       "      <td>20063</td>\n",
       "      <td>1д 5ч 10м</td>\n",
       "      <td>1750</td>\n",
       "      <td>6254.5</td>\n",
       "      <td>Dubai</td>\n",
       "    </tr>\n",
       "    <tr>\n",
       "      <th>24</th>\n",
       "      <td>22223</td>\n",
       "      <td>1д 7ч 10м</td>\n",
       "      <td>1870</td>\n",
       "      <td>6254.5</td>\n",
       "      <td>Dubai</td>\n",
       "    </tr>\n",
       "    <tr>\n",
       "      <th>25</th>\n",
       "      <td>22898</td>\n",
       "      <td>1д 11ч 15м</td>\n",
       "      <td>2115</td>\n",
       "      <td>6254.5</td>\n",
       "      <td>Dubai</td>\n",
       "    </tr>\n",
       "    <tr>\n",
       "      <th>26</th>\n",
       "      <td>23195</td>\n",
       "      <td>16ч 15м</td>\n",
       "      <td>975</td>\n",
       "      <td>6254.5</td>\n",
       "      <td>Dubai</td>\n",
       "    </tr>\n",
       "    <tr>\n",
       "      <th>27</th>\n",
       "      <td>23419</td>\n",
       "      <td>18ч 15м</td>\n",
       "      <td>1095</td>\n",
       "      <td>6254.5</td>\n",
       "      <td>Dubai</td>\n",
       "    </tr>\n",
       "    <tr>\n",
       "      <th>28</th>\n",
       "      <td>23803</td>\n",
       "      <td>17ч 20м</td>\n",
       "      <td>1040</td>\n",
       "      <td>6254.5</td>\n",
       "      <td>Dubai</td>\n",
       "    </tr>\n",
       "    <tr>\n",
       "      <th>29</th>\n",
       "      <td>25440</td>\n",
       "      <td>20ч 15м</td>\n",
       "      <td>1215</td>\n",
       "      <td>6254.5</td>\n",
       "      <td>Dubai</td>\n",
       "    </tr>\n",
       "    <tr>\n",
       "      <th>30</th>\n",
       "      <td>18042</td>\n",
       "      <td>1д 15ч 10м</td>\n",
       "      <td>2350</td>\n",
       "      <td>6254.5</td>\n",
       "      <td>Dubai</td>\n",
       "    </tr>\n",
       "    <tr>\n",
       "      <th>31</th>\n",
       "      <td>56353</td>\n",
       "      <td>9ч 25м</td>\n",
       "      <td>565</td>\n",
       "      <td>6254.5</td>\n",
       "      <td>Dubai</td>\n",
       "    </tr>\n",
       "    <tr>\n",
       "      <th>32</th>\n",
       "      <td>31358</td>\n",
       "      <td>12ч 30м</td>\n",
       "      <td>750</td>\n",
       "      <td>6254.5</td>\n",
       "      <td>Dubai</td>\n",
       "    </tr>\n",
       "    <tr>\n",
       "      <th>33</th>\n",
       "      <td>20063</td>\n",
       "      <td>1д 5ч 10м</td>\n",
       "      <td>1750</td>\n",
       "      <td>6254.5</td>\n",
       "      <td>Dubai</td>\n",
       "    </tr>\n",
       "    <tr>\n",
       "      <th>34</th>\n",
       "      <td>22223</td>\n",
       "      <td>1д 7ч 10м</td>\n",
       "      <td>1870</td>\n",
       "      <td>6254.5</td>\n",
       "      <td>Dubai</td>\n",
       "    </tr>\n",
       "    <tr>\n",
       "      <th>35</th>\n",
       "      <td>22898</td>\n",
       "      <td>1д 11ч 15м</td>\n",
       "      <td>2115</td>\n",
       "      <td>6254.5</td>\n",
       "      <td>Dubai</td>\n",
       "    </tr>\n",
       "    <tr>\n",
       "      <th>36</th>\n",
       "      <td>23195</td>\n",
       "      <td>16ч 15м</td>\n",
       "      <td>975</td>\n",
       "      <td>6254.5</td>\n",
       "      <td>Dubai</td>\n",
       "    </tr>\n",
       "    <tr>\n",
       "      <th>37</th>\n",
       "      <td>23419</td>\n",
       "      <td>18ч 15м</td>\n",
       "      <td>1095</td>\n",
       "      <td>6254.5</td>\n",
       "      <td>Dubai</td>\n",
       "    </tr>\n",
       "    <tr>\n",
       "      <th>38</th>\n",
       "      <td>23803</td>\n",
       "      <td>17ч 20м</td>\n",
       "      <td>1040</td>\n",
       "      <td>6254.5</td>\n",
       "      <td>Dubai</td>\n",
       "    </tr>\n",
       "    <tr>\n",
       "      <th>39</th>\n",
       "      <td>25440</td>\n",
       "      <td>20ч 15м</td>\n",
       "      <td>1215</td>\n",
       "      <td>6254.5</td>\n",
       "      <td>Dubai</td>\n",
       "    </tr>\n",
       "    <tr>\n",
       "      <th>40</th>\n",
       "      <td>18042</td>\n",
       "      <td>1д 15ч 10м</td>\n",
       "      <td>2350</td>\n",
       "      <td>6254.5</td>\n",
       "      <td>Dubai</td>\n",
       "    </tr>\n",
       "    <tr>\n",
       "      <th>41</th>\n",
       "      <td>56353</td>\n",
       "      <td>9ч 25м</td>\n",
       "      <td>565</td>\n",
       "      <td>6254.5</td>\n",
       "      <td>Dubai</td>\n",
       "    </tr>\n",
       "    <tr>\n",
       "      <th>42</th>\n",
       "      <td>31358</td>\n",
       "      <td>12ч 30м</td>\n",
       "      <td>750</td>\n",
       "      <td>6254.5</td>\n",
       "      <td>Dubai</td>\n",
       "    </tr>\n",
       "    <tr>\n",
       "      <th>43</th>\n",
       "      <td>20063</td>\n",
       "      <td>1д 5ч 10м</td>\n",
       "      <td>1750</td>\n",
       "      <td>6254.5</td>\n",
       "      <td>Dubai</td>\n",
       "    </tr>\n",
       "    <tr>\n",
       "      <th>44</th>\n",
       "      <td>22223</td>\n",
       "      <td>1д 7ч 10м</td>\n",
       "      <td>1870</td>\n",
       "      <td>6254.5</td>\n",
       "      <td>Dubai</td>\n",
       "    </tr>\n",
       "    <tr>\n",
       "      <th>45</th>\n",
       "      <td>22898</td>\n",
       "      <td>1д 11ч 15м</td>\n",
       "      <td>2115</td>\n",
       "      <td>6254.5</td>\n",
       "      <td>Dubai</td>\n",
       "    </tr>\n",
       "    <tr>\n",
       "      <th>46</th>\n",
       "      <td>23195</td>\n",
       "      <td>16ч 15м</td>\n",
       "      <td>975</td>\n",
       "      <td>6254.5</td>\n",
       "      <td>Dubai</td>\n",
       "    </tr>\n",
       "    <tr>\n",
       "      <th>47</th>\n",
       "      <td>23419</td>\n",
       "      <td>18ч 15м</td>\n",
       "      <td>1095</td>\n",
       "      <td>6254.5</td>\n",
       "      <td>Dubai</td>\n",
       "    </tr>\n",
       "    <tr>\n",
       "      <th>48</th>\n",
       "      <td>23803</td>\n",
       "      <td>17ч 20м</td>\n",
       "      <td>1040</td>\n",
       "      <td>6254.5</td>\n",
       "      <td>Dubai</td>\n",
       "    </tr>\n",
       "    <tr>\n",
       "      <th>49</th>\n",
       "      <td>25440</td>\n",
       "      <td>20ч 15м</td>\n",
       "      <td>1215</td>\n",
       "      <td>6254.5</td>\n",
       "      <td>Dubai</td>\n",
       "    </tr>\n",
       "  </tbody>\n",
       "</table>\n",
       "</div>"
      ],
      "text/plain": [
       "    ticket_price flight_time  flight_time_minutes  mean_luggage_cost   city\n",
       "0          18042  1д 15ч 10м                 2350             6254.5  Dubai\n",
       "1          56353      9ч 25м                  565             6254.5  Dubai\n",
       "2          31358     12ч 30м                  750             6254.5  Dubai\n",
       "3          20063   1д 5ч 10м                 1750             6254.5  Dubai\n",
       "4          22223   1д 7ч 10м                 1870             6254.5  Dubai\n",
       "5          22898  1д 11ч 15м                 2115             6254.5  Dubai\n",
       "6          23195     16ч 15м                  975             6254.5  Dubai\n",
       "7          23419     18ч 15м                 1095             6254.5  Dubai\n",
       "8          23803     17ч 20м                 1040             6254.5  Dubai\n",
       "9          25440     20ч 15м                 1215             6254.5  Dubai\n",
       "10         18042  1д 15ч 10м                 2350             6254.5  Dubai\n",
       "11         56353      9ч 25м                  565             6254.5  Dubai\n",
       "12         31358     12ч 30м                  750             6254.5  Dubai\n",
       "13         20063   1д 5ч 10м                 1750             6254.5  Dubai\n",
       "14         22223   1д 7ч 10м                 1870             6254.5  Dubai\n",
       "15         22898  1д 11ч 15м                 2115             6254.5  Dubai\n",
       "16         23195     16ч 15м                  975             6254.5  Dubai\n",
       "17         23419     18ч 15м                 1095             6254.5  Dubai\n",
       "18         23803     17ч 20м                 1040             6254.5  Dubai\n",
       "19         25440     20ч 15м                 1215             6254.5  Dubai\n",
       "20         18042  1д 15ч 10м                 2350             6254.5  Dubai\n",
       "21         56353      9ч 25м                  565             6254.5  Dubai\n",
       "22         31358     12ч 30м                  750             6254.5  Dubai\n",
       "23         20063   1д 5ч 10м                 1750             6254.5  Dubai\n",
       "24         22223   1д 7ч 10м                 1870             6254.5  Dubai\n",
       "25         22898  1д 11ч 15м                 2115             6254.5  Dubai\n",
       "26         23195     16ч 15м                  975             6254.5  Dubai\n",
       "27         23419     18ч 15м                 1095             6254.5  Dubai\n",
       "28         23803     17ч 20м                 1040             6254.5  Dubai\n",
       "29         25440     20ч 15м                 1215             6254.5  Dubai\n",
       "30         18042  1д 15ч 10м                 2350             6254.5  Dubai\n",
       "31         56353      9ч 25м                  565             6254.5  Dubai\n",
       "32         31358     12ч 30м                  750             6254.5  Dubai\n",
       "33         20063   1д 5ч 10м                 1750             6254.5  Dubai\n",
       "34         22223   1д 7ч 10м                 1870             6254.5  Dubai\n",
       "35         22898  1д 11ч 15м                 2115             6254.5  Dubai\n",
       "36         23195     16ч 15м                  975             6254.5  Dubai\n",
       "37         23419     18ч 15м                 1095             6254.5  Dubai\n",
       "38         23803     17ч 20м                 1040             6254.5  Dubai\n",
       "39         25440     20ч 15м                 1215             6254.5  Dubai\n",
       "40         18042  1д 15ч 10м                 2350             6254.5  Dubai\n",
       "41         56353      9ч 25м                  565             6254.5  Dubai\n",
       "42         31358     12ч 30м                  750             6254.5  Dubai\n",
       "43         20063   1д 5ч 10м                 1750             6254.5  Dubai\n",
       "44         22223   1д 7ч 10м                 1870             6254.5  Dubai\n",
       "45         22898  1д 11ч 15м                 2115             6254.5  Dubai\n",
       "46         23195     16ч 15м                  975             6254.5  Dubai\n",
       "47         23419     18ч 15м                 1095             6254.5  Dubai\n",
       "48         23803     17ч 20м                 1040             6254.5  Dubai\n",
       "49         25440     20ч 15м                 1215             6254.5  Dubai"
      ]
     },
     "execution_count": 158,
     "metadata": {},
     "output_type": "execute_result"
    }
   ],
   "source": [
    "fl_1 = list (zip(ticket_price, flight_time))\n",
    "flight_dubai  = pd.DataFrame(fl_1, columns = ['ticket_price', 'flight_time'])\n",
    "flight_dubai ['ticket_price'] = flight_dubai ['ticket_price'].apply(lambda x: int(x))\n",
    "#flight_dubai ['ticket_price'] = flight_dubai ['ticket_price'] + 600\n",
    "flight_dubai ['flight_time_minutes'] = flight_dubai ['flight_time'].apply(convert_to_minutes)\n",
    "flight_dubai ['flight_time_minutes'] = flight_dubai ['flight_time_minutes'].apply(lambda x: int(x))\n",
    "flight_dubai ['mean_luggage_cost'] = statistics.mean(list(map(int, luggage)))\n",
    "#flight_dubai ['luggage_cost'] = luggage\n",
    "flight_dubai ['city'] = 'Dubai'\n",
    "flight_dubai "
   ]
  },
  {
   "cell_type": "code",
   "execution_count": 493,
   "id": "e01dfb2b",
   "metadata": {},
   "outputs": [],
   "source": [
    "import pandas as pd\n",
    "import numpy as np"
   ]
  },
  {
   "cell_type": "code",
   "execution_count": 159,
   "id": "3632abb1",
   "metadata": {},
   "outputs": [],
   "source": [
    "flight_dubai.to_pickle('C:\\\\Users\\\\polin\\\\OneDrive\\\\Документы\\\\Python Scripts\\\\flight_dubai.pkl')"
   ]
  },
  {
   "cell_type": "code",
   "execution_count": 240,
   "id": "836b0f85",
   "metadata": {},
   "outputs": [],
   "source": [
    "flight_alanya = pd.read_pickle('flight_alanya.pkl')\n",
    "flight_alanya['city'] = 'Alanya'"
   ]
  },
  {
   "cell_type": "code",
   "execution_count": 249,
   "id": "9450479f",
   "metadata": {},
   "outputs": [],
   "source": [
    "flights = ['flight_abu_dhabi', 'flight_alma_ata ', 'flight_astana','flight_athens', 'flight_bangkok', 'flight_barcelona', 'flight_batumi', 'flight_berlin', 'flight_bermingem', \n",
    "         'flight_budva', 'flight_buenos_aires', 'flight_canberra', 'flight_dubai', 'flight_gayranger', 'flight_gyumri', 'flight_hurghada', 'flight_cairo',\n",
    "         'flight_candi', 'flight_karlovy_vary', 'flight_kirenia', 'flight_kiruna', 'flight_london', 'flight_los_angeles', 'flight_madrid', 'flight_marcel', 'flight_munich', 'flight_nara',\n",
    "         'flight_new_york', 'flight_nikosia', 'flight_oslo', 'flight_ottava', 'flight_paris', 'flight_phuket', 'flight_prague', 'flight_pusan', 'flight_rhodes', 'flight_rome',\n",
    "         'flight_seoul', 'flight_side', 'flight_stockholm', 'flight_tbilisi', 'flight_tokio', 'flight_ulcinj', 'flight_vancouver', 'flight_veligame', 'flight_venezia ', 'flight_erevan', 'flight_sydney']\n",
    "dfs = {}\n",
    "for i in flights:\n",
    "    dfs[i] = pd.read_pickle(f'{i}.pkl')"
   ]
  },
  {
   "cell_type": "code",
   "execution_count": 250,
   "id": "f401b066",
   "metadata": {},
   "outputs": [],
   "source": [
    "flight = pd.concat(dfs.values(), ignore_index=True)"
   ]
  },
  {
   "cell_type": "code",
   "execution_count": 251,
   "id": "bdc6f85f",
   "metadata": {},
   "outputs": [],
   "source": [
    "a = pd.read_pickle('flight_mendoza.pkl')"
   ]
  },
  {
   "cell_type": "code",
   "execution_count": 252,
   "id": "ebfd24d6",
   "metadata": {},
   "outputs": [
    {
     "name": "stdout",
     "output_type": "stream",
     "text": [
      "[11177, 16095, 13054, 9297, 12920, 8688, 8688, 8688, 11177, 16095, 13054, 9297, 12920, 8688, 8688, 8688, 11177, 16095, 13054, 9297, 12920, 8688, 8688, 8688, 11177, 16095, 13054, 9297, 12920, 8688, 8688, 8688, 11177, 16095, 13054, 9297, 12920, 8688, 8688, 8688]\n"
     ]
    }
   ],
   "source": [
    "price = []\n",
    "for i in a['luggage_cost']:\n",
    "    if i != 'No info':\n",
    "        price.append(int(i))\n",
    "print(price)"
   ]
  },
  {
   "cell_type": "code",
   "execution_count": 253,
   "id": "d78ba1b3",
   "metadata": {},
   "outputs": [],
   "source": [
    "a['mean_luggage_cost'] = statistics.mean(list(map(int, price)))"
   ]
  },
  {
   "cell_type": "code",
   "execution_count": 254,
   "id": "44de24fa",
   "metadata": {},
   "outputs": [],
   "source": [
    "del a['luggage_cost']"
   ]
  },
  {
   "cell_type": "code",
   "execution_count": 255,
   "id": "b4a571e3",
   "metadata": {},
   "outputs": [
    {
     "data": {
      "text/plain": [
       "city\n",
       "Abu Dhabi        21858.5\n",
       "Alanya           23262.0\n",
       "Alma_ATA         24137.2\n",
       "Astana           22170.8\n",
       "Athens           40494.4\n",
       "Bangkok          40094.8\n",
       "Barcelona        40906.9\n",
       "Batumi           28602.5\n",
       "Berlin           34166.8\n",
       "Birmingham       32343.6\n",
       "Budva            40681.1\n",
       "Buenos Aires     90089.7\n",
       "Cairo            30078.0\n",
       "Canberra        106518.1\n",
       "Candi            43757.4\n",
       "Dubai            26679.4\n",
       "Erevan           14803.8\n",
       "Gayranger        55364.6\n",
       "Gyumri           16853.6\n",
       "Hurghada         37285.1\n",
       "Karlovy Vary     42560.0\n",
       "Kirenia          32074.7\n",
       "Kiruna           57499.5\n",
       "London           27551.6\n",
       "Los Angeles      83320.4\n",
       "Madrid           37527.2\n",
       "Marcel           53154.7\n",
       "Mendoza         132687.1\n",
       "Munich           33557.0\n",
       "Nara            113480.4\n",
       "New York         72822.2\n",
       "Nikosia          30606.3\n",
       "Oslo             41099.3\n",
       "Ottava          181985.7\n",
       "Paris            39184.6\n",
       "Phuket           48611.0\n",
       "Prague           41636.2\n",
       "Pusan            53365.8\n",
       "Rhodes           43385.5\n",
       "Rome             31765.8\n",
       "Seoul            54102.7\n",
       "Side             25382.7\n",
       "Stockholm        33770.0\n",
       "Sydney           69848.0\n",
       "Tbilisi          25015.6\n",
       "Tokio            91712.2\n",
       "Ulcinj           38313.6\n",
       "Vancouver       130570.5\n",
       "Veligame         44227.4\n",
       "Venezia          42659.4\n",
       "Name: ticket_price, dtype: float64"
      ]
     },
     "execution_count": 255,
     "metadata": {},
     "output_type": "execute_result"
    }
   ],
   "source": [
    "flight = pd.concat([flight, a, flight_alanya])"
   ]
  },
  {
   "cell_type": "code",
   "execution_count": 296,
   "id": "397d9517",
   "metadata": {},
   "outputs": [],
   "source": [
    "rests = pd.read_csv('restaurants.csv', index_col = 0)\n",
    "rest_athens = pd.read_csv('rest_athens.csv', index_col=0)"
   ]
  },
  {
   "cell_type": "code",
   "execution_count": 301,
   "id": "075a2bf6",
   "metadata": {},
   "outputs": [],
   "source": [
    "rests = rests.iloc[:, :-1]"
   ]
  },
  {
   "cell_type": "code",
   "execution_count": 302,
   "id": "aa89cf3a",
   "metadata": {},
   "outputs": [],
   "source": [
    "rests = pd.concat([rests, rest_athens])"
   ]
  },
  {
   "cell_type": "code",
   "execution_count": 303,
   "id": "439d81aa",
   "metadata": {},
   "outputs": [
    {
     "data": {
      "text/html": [
       "<div>\n",
       "<style scoped>\n",
       "    .dataframe tbody tr th:only-of-type {\n",
       "        vertical-align: middle;\n",
       "    }\n",
       "\n",
       "    .dataframe tbody tr th {\n",
       "        vertical-align: top;\n",
       "    }\n",
       "\n",
       "    .dataframe thead th {\n",
       "        text-align: right;\n",
       "    }\n",
       "</style>\n",
       "<table border=\"1\" class=\"dataframe\">\n",
       "  <thead>\n",
       "    <tr style=\"text-align: right;\">\n",
       "      <th></th>\n",
       "      <th>names</th>\n",
       "      <th>rate</th>\n",
       "      <th>type</th>\n",
       "      <th>mean_rate</th>\n",
       "      <th>min_price</th>\n",
       "      <th>max_price</th>\n",
       "      <th>city</th>\n",
       "      <th>country</th>\n",
       "    </tr>\n",
       "  </thead>\n",
       "  <tbody>\n",
       "    <tr>\n",
       "      <th>0</th>\n",
       "      <td>Entrecôte Café de Paris - YAS Mall</td>\n",
       "      <td>3.5</td>\n",
       "      <td>Middle</td>\n",
       "      <td>4.390572</td>\n",
       "      <td>4575.0</td>\n",
       "      <td>6404.0</td>\n",
       "      <td>Abu-Dhabi</td>\n",
       "      <td>UEA</td>\n",
       "    </tr>\n",
       "    <tr>\n",
       "      <th>1</th>\n",
       "      <td>Glow - Poolside Sports Bar</td>\n",
       "      <td>5.0</td>\n",
       "      <td>Middle</td>\n",
       "      <td>4.390572</td>\n",
       "      <td>1830.0</td>\n",
       "      <td>5489.0</td>\n",
       "      <td>Abu-Dhabi</td>\n",
       "      <td>UEA</td>\n",
       "    </tr>\n",
       "    <tr>\n",
       "      <th>2</th>\n",
       "      <td>Art Lounge</td>\n",
       "      <td>5.0</td>\n",
       "      <td>Middle</td>\n",
       "      <td>4.390572</td>\n",
       "      <td>NaN</td>\n",
       "      <td>NaN</td>\n",
       "      <td>Abu-Dhabi</td>\n",
       "      <td>UEA</td>\n",
       "    </tr>\n",
       "    <tr>\n",
       "      <th>3</th>\n",
       "      <td>Cabana Beach Bar &amp; Grill</td>\n",
       "      <td>5.0</td>\n",
       "      <td>Middle</td>\n",
       "      <td>4.390572</td>\n",
       "      <td>915.0</td>\n",
       "      <td>2745.0</td>\n",
       "      <td>Abu-Dhabi</td>\n",
       "      <td>UEA</td>\n",
       "    </tr>\n",
       "    <tr>\n",
       "      <th>4</th>\n",
       "      <td>BB Social Dining</td>\n",
       "      <td>5.0</td>\n",
       "      <td>Middle</td>\n",
       "      <td>4.390572</td>\n",
       "      <td>NaN</td>\n",
       "      <td>NaN</td>\n",
       "      <td>Abu-Dhabi</td>\n",
       "      <td>UEA</td>\n",
       "    </tr>\n",
       "    <tr>\n",
       "      <th>...</th>\n",
       "      <td>...</td>\n",
       "      <td>...</td>\n",
       "      <td>...</td>\n",
       "      <td>...</td>\n",
       "      <td>...</td>\n",
       "      <td>...</td>\n",
       "      <td>...</td>\n",
       "      <td>...</td>\n",
       "    </tr>\n",
       "    <tr>\n",
       "      <th>595</th>\n",
       "      <td>Estrella Athens</td>\n",
       "      <td>3.5</td>\n",
       "      <td>Middle</td>\n",
       "      <td>4.419328</td>\n",
       "      <td>NaN</td>\n",
       "      <td>NaN</td>\n",
       "      <td>Athens</td>\n",
       "      <td>Greece</td>\n",
       "    </tr>\n",
       "    <tr>\n",
       "      <th>596</th>\n",
       "      <td>Athinaia</td>\n",
       "      <td>4.5</td>\n",
       "      <td>Middle</td>\n",
       "      <td>4.419328</td>\n",
       "      <td>797.0</td>\n",
       "      <td>1494.0</td>\n",
       "      <td>Athens</td>\n",
       "      <td>Greece</td>\n",
       "    </tr>\n",
       "    <tr>\n",
       "      <th>597</th>\n",
       "      <td>G Cafe Bar</td>\n",
       "      <td>5.0</td>\n",
       "      <td>Middle</td>\n",
       "      <td>4.419328</td>\n",
       "      <td>199.0</td>\n",
       "      <td>2092.0</td>\n",
       "      <td>Athens</td>\n",
       "      <td>Greece</td>\n",
       "    </tr>\n",
       "    <tr>\n",
       "      <th>598</th>\n",
       "      <td>Ammos</td>\n",
       "      <td>3.5</td>\n",
       "      <td>Middle</td>\n",
       "      <td>4.419328</td>\n",
       "      <td>918.0</td>\n",
       "      <td>1836.0</td>\n",
       "      <td>Athens</td>\n",
       "      <td>Greece</td>\n",
       "    </tr>\n",
       "    <tr>\n",
       "      <th>599</th>\n",
       "      <td>Avli ton Gefseon</td>\n",
       "      <td>5.0</td>\n",
       "      <td>Middle</td>\n",
       "      <td>4.419328</td>\n",
       "      <td>996.0</td>\n",
       "      <td>1793.0</td>\n",
       "      <td>Athens</td>\n",
       "      <td>Greece</td>\n",
       "    </tr>\n",
       "  </tbody>\n",
       "</table>\n",
       "<p>21921 rows × 8 columns</p>\n",
       "</div>"
      ],
      "text/plain": [
       "                                  names  rate    type  mean_rate  min_price  \\\n",
       "0    Entrecôte Café de Paris - YAS Mall   3.5  Middle   4.390572     4575.0   \n",
       "1            Glow - Poolside Sports Bar   5.0  Middle   4.390572     1830.0   \n",
       "2                            Art Lounge   5.0  Middle   4.390572        NaN   \n",
       "3              Cabana Beach Bar & Grill   5.0  Middle   4.390572      915.0   \n",
       "4                      BB Social Dining   5.0  Middle   4.390572        NaN   \n",
       "..                                  ...   ...     ...        ...        ...   \n",
       "595                     Estrella Athens   3.5  Middle   4.419328        NaN   \n",
       "596                            Athinaia   4.5  Middle   4.419328      797.0   \n",
       "597                          G Cafe Bar   5.0  Middle   4.419328      199.0   \n",
       "598                               Ammos   3.5  Middle   4.419328      918.0   \n",
       "599                    Avli ton Gefseon   5.0  Middle   4.419328      996.0   \n",
       "\n",
       "     max_price       city country  \n",
       "0       6404.0  Abu-Dhabi     UEA  \n",
       "1       5489.0  Abu-Dhabi     UEA  \n",
       "2          NaN  Abu-Dhabi     UEA  \n",
       "3       2745.0  Abu-Dhabi     UEA  \n",
       "4          NaN  Abu-Dhabi     UEA  \n",
       "..         ...        ...     ...  \n",
       "595        NaN     Athens  Greece  \n",
       "596     1494.0     Athens  Greece  \n",
       "597     2092.0     Athens  Greece  \n",
       "598     1836.0     Athens  Greece  \n",
       "599     1793.0     Athens  Greece  \n",
       "\n",
       "[21921 rows x 8 columns]"
      ]
     },
     "execution_count": 303,
     "metadata": {},
     "output_type": "execute_result"
    }
   ],
   "source": [
    "rests"
   ]
  },
  {
   "cell_type": "code",
   "execution_count": 304,
   "id": "f6c44b2c",
   "metadata": {},
   "outputs": [],
   "source": [
    "cit = []\n",
    "for i in rests['city']:\n",
    "    if i == 'Mendosa':\n",
    "        cit.append('Mendoza')\n",
    "    elif i == 'Vancuver':\n",
    "         cit.append('Vancouver')\n",
    "    elif i == 'Abu-Dhabi':\n",
    "        cit.append('Abu Dhabi')\n",
    "    elif i == 'Birmengen':\n",
    "        cit.append('Birmingham')\n",
    "    elif i == 'Kair':\n",
    "        cit.append('Cairo')\n",
    "    elif i == 'Gumri':\n",
    "        cit.append('Gyumri')\n",
    "    elif i == 'Hurgada':\n",
    "        cit.append('Hurghada')\n",
    "    elif i == 'Rodos':\n",
    "        cit.append('Rhodes')\n",
    "    else :\n",
    "        cit.append(i)"
   ]
  },
  {
   "cell_type": "code",
   "execution_count": 306,
   "id": "84a91aca",
   "metadata": {},
   "outputs": [],
   "source": [
    "rests['city'] = cit"
   ]
  },
  {
   "cell_type": "code",
   "execution_count": 307,
   "id": "bec1de2a",
   "metadata": {},
   "outputs": [],
   "source": [
    "cit_2 = []\n",
    "for i in flight['city']:\n",
    "    if i == 'Candi':\n",
    "        cit_2.append('Kandy')\n",
    "    elif i == 'Tokio':\n",
    "         cit_2.append('Tokyo')\n",
    "    elif i == 'Alma_ATA':\n",
    "        cit_2.append('Almata')\n",
    "    else: \n",
    "        cit_2.append(i)"
   ]
  },
  {
   "cell_type": "code",
   "execution_count": 308,
   "id": "5a0c30f6",
   "metadata": {},
   "outputs": [],
   "source": [
    "flight['city'] = cit_2"
   ]
  },
  {
   "cell_type": "code",
   "execution_count": 309,
   "id": "e8279847",
   "metadata": {},
   "outputs": [],
   "source": [
    "temp = rests.sort_values(by=['rate', 'city'], ascending=[False, True])"
   ]
  },
  {
   "cell_type": "code",
   "execution_count": 326,
   "id": "82ea1715",
   "metadata": {},
   "outputs": [],
   "source": [
    "result = temp.groupby('city').apply(lambda x: x.head(50)).reset_index(drop=True)"
   ]
  },
  {
   "cell_type": "code",
   "execution_count": 342,
   "id": "e041cba9",
   "metadata": {},
   "outputs": [],
   "source": [
    "flight_1 = flight.groupby('city').apply(lambda x: x.head(9) if x.name == 'Gayranger' else (x.head(28) if x.name == 'Gyumri' else (x.head(11) if x.name == 'Kiruna' else x)))"
   ]
  },
  {
   "cell_type": "code",
   "execution_count": 347,
   "id": "4fb2da20",
   "metadata": {},
   "outputs": [],
   "source": [
    "flight_1 = flight_1.reset_index(drop=True)"
   ]
  },
  {
   "cell_type": "code",
   "execution_count": 368,
   "id": "b5ff6b5e",
   "metadata": {},
   "outputs": [],
   "source": [
    "df = pd.concat([flight_1, result], axis = 1,  join=\"inner\")"
   ]
  },
  {
   "cell_type": "code",
   "execution_count": 369,
   "id": "06aaf357",
   "metadata": {},
   "outputs": [],
   "source": [
    "del df['type']"
   ]
  },
  {
   "cell_type": "code",
   "execution_count": 374,
   "id": "b4cbb5de",
   "metadata": {},
   "outputs": [],
   "source": [
    "df.to_csv('C:\\\\Users\\\\polin\\\\OneDrive\\\\Документы\\\\Python Scripts\\\\df.csv')"
   ]
  },
  {
   "cell_type": "code",
   "execution_count": 375,
   "id": "bcde4db5",
   "metadata": {},
   "outputs": [],
   "source": [
    "rests.to_csv('C:\\\\Users\\\\polin\\\\OneDrive\\\\Документы\\\\Python Scripts\\\\rests.csv')"
   ]
  },
  {
   "cell_type": "code",
   "execution_count": 313,
   "id": "5a026394",
   "metadata": {},
   "outputs": [],
   "source": [
    "flight.to_csv('C:\\\\Users\\\\polin\\\\OneDrive\\\\Документы\\\\Python Scripts\\\\flight.csv')"
   ]
  },
  {
   "cell_type": "code",
   "execution_count": 420,
   "id": "fedb6ba7",
   "metadata": {},
   "outputs": [],
   "source": [
    "other = pd.read_excel('Датасет.xlsx')"
   ]
  },
  {
   "cell_type": "code",
   "execution_count": 468,
   "id": "ddd7ef7f",
   "metadata": {},
   "outputs": [],
   "source": [
    "flight = pd.read_csv('flight.csv', index_col = 0)\n",
    "cit = {'Erevan':'Ереван', 'Sydney':'Сидней', 'Canberra':'Канберра', 'Birmingham':'Бирмингем', 'London':'Лондон', 'Buenos Aires':'Буэнос-Айрес', 'Mendoza':'Мендоса', 'Gyumri':'Гюмри', 'Berlin':'Берлин', 'Munich':'Мюнхен', 'Athens':'Афины', 'Rhodes':'Родос', 'Batumi':'Батуми', 'Tbilisi':'Тбилиси', 'Hurghada':'Хургада', 'Cairo':'Каир', 'Madrid':'Мадрид', 'Barcelona':'Барселона', 'Rome':'Рим', 'Venezia ':'Венеция', 'Astana':'Астана', 'Almata':'Алма-Ата', 'Vancouver':'Ванкувер', 'Ottava':'Оттава', 'Kirenia':'Кирения', 'Nikosia':'Никосия', 'Gayranger':'Гейрангер', 'Oslo':'Осло', 'Abu Dhabi':'Абу-Даби', 'Dubai':'Дубай', 'New York':'Нью-Йорк', 'Los Angeles':'Лос-Анджелес', 'Phuket':'Пхукет', 'Bangkok':'Бангкок', 'Alanya':'Аланья', 'Side':'Сиде', 'Paris':'Париж', 'Marcel':'Марсель', 'Budva':'Будва','Ulcinj':'Улцинь', 'Prague':'Прага', 'Karlovy Vary':'Карловы Вары', 'Stockholm':'Стокгольм', 'Kiruna':'Кируна', 'Kandy':'Канди', 'Veligame':'Велигаме', 'Seoul':'Сеул', 'Pusan':'Пусан', 'Tokyo':'Токио', 'Nara':'Нара'}\n",
    "cities = []\n",
    "for i in flight['city']:\n",
    "    for key in cit:\n",
    "        if i == key:\n",
    "            cities.append(cit[key])\n",
    "flight['city'] = cities"
   ]
  },
  {
   "cell_type": "code",
   "execution_count": 469,
   "id": "7b8851ae",
   "metadata": {},
   "outputs": [],
   "source": [
    "rests = pd.read_csv('rests.csv', index_col = 0)\n",
    "cit = {'Erevan':'Ереван', 'Sydney':'Сидней', 'Canberra':'Канберра', 'Birmingham':'Бирмингем', 'London':'Лондон', 'Buenos Aires':'Буэнос-Айрес', 'Mendoza':'Мендоса', 'Gyumri':'Гюмри', 'Berlin':'Берлин', 'Munich':'Мюнхен', 'Athens':'Афины', 'Rhodes':'Родос', 'Batumi':'Батуми', 'Tbilisi':'Тбилиси', 'Hurghada':'Хургада', 'Cairo':'Каир', 'Madrid':'Мадрид', 'Barcelona':'Барселона', 'Rome':'Рим', 'Venezia':'Венеция', 'Astana':'Астана', 'Almata':'Алма-Ата', 'Vancouver':'Ванкувер', 'Ottava':'Оттава', 'Kirenia':'Кирения', 'Nikosia':'Никосия', 'Gayranger':'Гейрангер', 'Oslo':'Осло', 'Abu Dhabi':'Абу-Даби', 'Dubai':'Дубай', 'New York':'Нью-Йорк', 'Los Angeles':'Лос-Анджелес', 'Phuket':'Пхукет', 'Bangkok':'Бангкок', 'Alanya':'Аланья', 'Side':'Сиде', 'Paris':'Париж', 'Marcel':'Марсель', 'Budva':'Будва','Ulcinj':'Улцинь', 'Prague':'Прага', 'Karlovy Vary':'Карловы Вары', 'Stockholm':'Стокгольм', 'Kiruna':'Кируна', 'Kandy':'Канди', 'Veligame':'Велигаме', 'Seoul':'Сеул', 'Pusan':'Пусан', 'Tokyo':'Токио', 'Nara':'Нара'}\n",
    "cities = []\n",
    "for i in rests['city']:\n",
    "    for key in cit:\n",
    "        if i == key:\n",
    "            cities.append(cit[key])\n",
    "rests['city'] = cities"
   ]
  },
  {
   "cell_type": "code",
   "execution_count": 531,
   "id": "d346cc7b",
   "metadata": {},
   "outputs": [
    {
     "data": {
      "text/html": [
       "<div>\n",
       "<style scoped>\n",
       "    .dataframe tbody tr th:only-of-type {\n",
       "        vertical-align: middle;\n",
       "    }\n",
       "\n",
       "    .dataframe tbody tr th {\n",
       "        vertical-align: top;\n",
       "    }\n",
       "\n",
       "    .dataframe thead th {\n",
       "        text-align: right;\n",
       "    }\n",
       "</style>\n",
       "<table border=\"1\" class=\"dataframe\">\n",
       "  <thead>\n",
       "    <tr style=\"text-align: right;\">\n",
       "      <th></th>\n",
       "      <th>city</th>\n",
       "      <th>price</th>\n",
       "      <th>rating</th>\n",
       "      <th>stars</th>\n",
       "      <th>lowest_price</th>\n",
       "      <th>highest_price</th>\n",
       "    </tr>\n",
       "  </thead>\n",
       "  <tbody>\n",
       "    <tr>\n",
       "      <th>0</th>\n",
       "      <td>Абу-Даби</td>\n",
       "      <td>18303.42</td>\n",
       "      <td>4.31</td>\n",
       "      <td>4.25</td>\n",
       "      <td>12737.01</td>\n",
       "      <td>22920.66</td>\n",
       "    </tr>\n",
       "    <tr>\n",
       "      <th>1</th>\n",
       "      <td>Аланья</td>\n",
       "      <td>6184.71</td>\n",
       "      <td>4.09</td>\n",
       "      <td>4.01</td>\n",
       "      <td>6203.38</td>\n",
       "      <td>22943.75</td>\n",
       "    </tr>\n",
       "    <tr>\n",
       "      <th>2</th>\n",
       "      <td>Алма-Ата</td>\n",
       "      <td>8978.38</td>\n",
       "      <td>3.87</td>\n",
       "      <td>3.75</td>\n",
       "      <td>6824.16</td>\n",
       "      <td>8686.99</td>\n",
       "    </tr>\n",
       "    <tr>\n",
       "      <th>3</th>\n",
       "      <td>Астана</td>\n",
       "      <td>12700.33</td>\n",
       "      <td>4.02</td>\n",
       "      <td>3.65</td>\n",
       "      <td>4857.21</td>\n",
       "      <td>6522.76</td>\n",
       "    </tr>\n",
       "    <tr>\n",
       "      <th>4</th>\n",
       "      <td>Афины</td>\n",
       "      <td>13724.45</td>\n",
       "      <td>4.20</td>\n",
       "      <td>3.37</td>\n",
       "      <td>8370.70</td>\n",
       "      <td>15814.96</td>\n",
       "    </tr>\n",
       "    <tr>\n",
       "      <th>5</th>\n",
       "      <td>Бангкок</td>\n",
       "      <td>12904.20</td>\n",
       "      <td>4.19</td>\n",
       "      <td>3.27</td>\n",
       "      <td>4312.44</td>\n",
       "      <td>6000.85</td>\n",
       "    </tr>\n",
       "    <tr>\n",
       "      <th>6</th>\n",
       "      <td>Барселона</td>\n",
       "      <td>21655.00</td>\n",
       "      <td>4.13</td>\n",
       "      <td>3.08</td>\n",
       "      <td>14238.31</td>\n",
       "      <td>24980.84</td>\n",
       "    </tr>\n",
       "    <tr>\n",
       "      <th>7</th>\n",
       "      <td>Батуми</td>\n",
       "      <td>7077.57</td>\n",
       "      <td>4.26</td>\n",
       "      <td>NaN</td>\n",
       "      <td>3819.64</td>\n",
       "      <td>5469.89</td>\n",
       "    </tr>\n",
       "    <tr>\n",
       "      <th>8</th>\n",
       "      <td>Берлин</td>\n",
       "      <td>11799.60</td>\n",
       "      <td>3.97</td>\n",
       "      <td>3.38</td>\n",
       "      <td>8858.00</td>\n",
       "      <td>14292.74</td>\n",
       "    </tr>\n",
       "    <tr>\n",
       "      <th>9</th>\n",
       "      <td>Бирмингем</td>\n",
       "      <td>8122.56</td>\n",
       "      <td>3.85</td>\n",
       "      <td>3.13</td>\n",
       "      <td>7497.76</td>\n",
       "      <td>12476.31</td>\n",
       "    </tr>\n",
       "    <tr>\n",
       "      <th>10</th>\n",
       "      <td>Будва</td>\n",
       "      <td>12064.11</td>\n",
       "      <td>4.30</td>\n",
       "      <td>3.70</td>\n",
       "      <td>6919.65</td>\n",
       "      <td>11369.19</td>\n",
       "    </tr>\n",
       "    <tr>\n",
       "      <th>11</th>\n",
       "      <td>Буэнос-Айрес</td>\n",
       "      <td>13786.86</td>\n",
       "      <td>4.00</td>\n",
       "      <td>3.42</td>\n",
       "      <td>7360.87</td>\n",
       "      <td>11535.76</td>\n",
       "    </tr>\n",
       "    <tr>\n",
       "      <th>12</th>\n",
       "      <td>Ванкувер</td>\n",
       "      <td>19344.23</td>\n",
       "      <td>4.12</td>\n",
       "      <td>3.37</td>\n",
       "      <td>15224.42</td>\n",
       "      <td>28585.15</td>\n",
       "    </tr>\n",
       "    <tr>\n",
       "      <th>13</th>\n",
       "      <td>Велигаме</td>\n",
       "      <td>14066.67</td>\n",
       "      <td>4.47</td>\n",
       "      <td>3.17</td>\n",
       "      <td>7795.79</td>\n",
       "      <td>12554.74</td>\n",
       "    </tr>\n",
       "    <tr>\n",
       "      <th>14</th>\n",
       "      <td>Венеция</td>\n",
       "      <td>30257.25</td>\n",
       "      <td>4.22</td>\n",
       "      <td>3.03</td>\n",
       "      <td>14696.97</td>\n",
       "      <td>29367.47</td>\n",
       "    </tr>\n",
       "    <tr>\n",
       "      <th>15</th>\n",
       "      <td>Гейрангер</td>\n",
       "      <td>NaN</td>\n",
       "      <td>4.21</td>\n",
       "      <td>3.38</td>\n",
       "      <td>12299.50</td>\n",
       "      <td>21350.12</td>\n",
       "    </tr>\n",
       "    <tr>\n",
       "      <th>16</th>\n",
       "      <td>Гюмри</td>\n",
       "      <td>NaN</td>\n",
       "      <td>4.54</td>\n",
       "      <td>3.50</td>\n",
       "      <td>4326.56</td>\n",
       "      <td>5167.61</td>\n",
       "    </tr>\n",
       "    <tr>\n",
       "      <th>17</th>\n",
       "      <td>Дубай</td>\n",
       "      <td>18231.91</td>\n",
       "      <td>4.20</td>\n",
       "      <td>3.93</td>\n",
       "      <td>10490.84</td>\n",
       "      <td>21193.59</td>\n",
       "    </tr>\n",
       "    <tr>\n",
       "      <th>18</th>\n",
       "      <td>Ереван</td>\n",
       "      <td>6767.05</td>\n",
       "      <td>4.25</td>\n",
       "      <td>3.52</td>\n",
       "      <td>4548.14</td>\n",
       "      <td>6694.23</td>\n",
       "    </tr>\n",
       "    <tr>\n",
       "      <th>19</th>\n",
       "      <td>Каир</td>\n",
       "      <td>8718.78</td>\n",
       "      <td>4.00</td>\n",
       "      <td>3.47</td>\n",
       "      <td>6242.99</td>\n",
       "      <td>8792.32</td>\n",
       "    </tr>\n",
       "    <tr>\n",
       "      <th>20</th>\n",
       "      <td>Канберра</td>\n",
       "      <td>10477.33</td>\n",
       "      <td>3.91</td>\n",
       "      <td>3.97</td>\n",
       "      <td>10574.06</td>\n",
       "      <td>14654.40</td>\n",
       "    </tr>\n",
       "    <tr>\n",
       "      <th>21</th>\n",
       "      <td>Канди</td>\n",
       "      <td>NaN</td>\n",
       "      <td>4.36</td>\n",
       "      <td>3.00</td>\n",
       "      <td>5033.28</td>\n",
       "      <td>7493.97</td>\n",
       "    </tr>\n",
       "    <tr>\n",
       "      <th>22</th>\n",
       "      <td>Карловы Вары</td>\n",
       "      <td>8636.00</td>\n",
       "      <td>4.31</td>\n",
       "      <td>4.00</td>\n",
       "      <td>8653.64</td>\n",
       "      <td>12127.56</td>\n",
       "    </tr>\n",
       "    <tr>\n",
       "      <th>23</th>\n",
       "      <td>Кирения</td>\n",
       "      <td>11923.46</td>\n",
       "      <td>4.08</td>\n",
       "      <td>3.81</td>\n",
       "      <td>12714.24</td>\n",
       "      <td>19163.85</td>\n",
       "    </tr>\n",
       "    <tr>\n",
       "      <th>24</th>\n",
       "      <td>Кируна</td>\n",
       "      <td>29201.00</td>\n",
       "      <td>4.32</td>\n",
       "      <td>3.00</td>\n",
       "      <td>13685.62</td>\n",
       "      <td>26129.69</td>\n",
       "    </tr>\n",
       "    <tr>\n",
       "      <th>25</th>\n",
       "      <td>Лондон</td>\n",
       "      <td>19789.40</td>\n",
       "      <td>3.98</td>\n",
       "      <td>3.49</td>\n",
       "      <td>17491.97</td>\n",
       "      <td>28786.59</td>\n",
       "    </tr>\n",
       "    <tr>\n",
       "      <th>26</th>\n",
       "      <td>Лос-Анджелес</td>\n",
       "      <td>19408.40</td>\n",
       "      <td>3.71</td>\n",
       "      <td>2.80</td>\n",
       "      <td>15534.49</td>\n",
       "      <td>21255.18</td>\n",
       "    </tr>\n",
       "    <tr>\n",
       "      <th>27</th>\n",
       "      <td>Мадрид</td>\n",
       "      <td>19066.32</td>\n",
       "      <td>3.99</td>\n",
       "      <td>2.94</td>\n",
       "      <td>10527.56</td>\n",
       "      <td>19014.39</td>\n",
       "    </tr>\n",
       "    <tr>\n",
       "      <th>28</th>\n",
       "      <td>Марсель</td>\n",
       "      <td>13531.50</td>\n",
       "      <td>3.88</td>\n",
       "      <td>2.97</td>\n",
       "      <td>8736.22</td>\n",
       "      <td>12279.97</td>\n",
       "    </tr>\n",
       "    <tr>\n",
       "      <th>29</th>\n",
       "      <td>Мендоса</td>\n",
       "      <td>32364.50</td>\n",
       "      <td>4.11</td>\n",
       "      <td>3.27</td>\n",
       "      <td>7555.75</td>\n",
       "      <td>10652.25</td>\n",
       "    </tr>\n",
       "    <tr>\n",
       "      <th>30</th>\n",
       "      <td>Мюнхен</td>\n",
       "      <td>11327.45</td>\n",
       "      <td>3.90</td>\n",
       "      <td>3.44</td>\n",
       "      <td>9260.78</td>\n",
       "      <td>14635.16</td>\n",
       "    </tr>\n",
       "    <tr>\n",
       "      <th>31</th>\n",
       "      <td>Нара</td>\n",
       "      <td>15673.75</td>\n",
       "      <td>4.13</td>\n",
       "      <td>2.85</td>\n",
       "      <td>10366.76</td>\n",
       "      <td>16606.42</td>\n",
       "    </tr>\n",
       "    <tr>\n",
       "      <th>32</th>\n",
       "      <td>Никосия</td>\n",
       "      <td>8615.60</td>\n",
       "      <td>4.23</td>\n",
       "      <td>3.31</td>\n",
       "      <td>7762.37</td>\n",
       "      <td>10141.44</td>\n",
       "    </tr>\n",
       "    <tr>\n",
       "      <th>33</th>\n",
       "      <td>Нью-Йорк</td>\n",
       "      <td>29016.80</td>\n",
       "      <td>4.16</td>\n",
       "      <td>3.60</td>\n",
       "      <td>23313.59</td>\n",
       "      <td>42266.53</td>\n",
       "    </tr>\n",
       "    <tr>\n",
       "      <th>34</th>\n",
       "      <td>Осло</td>\n",
       "      <td>14761.00</td>\n",
       "      <td>3.96</td>\n",
       "      <td>3.46</td>\n",
       "      <td>11717.02</td>\n",
       "      <td>17208.32</td>\n",
       "    </tr>\n",
       "    <tr>\n",
       "      <th>35</th>\n",
       "      <td>Оттава</td>\n",
       "      <td>14487.27</td>\n",
       "      <td>4.10</td>\n",
       "      <td>3.01</td>\n",
       "      <td>11244.08</td>\n",
       "      <td>15022.53</td>\n",
       "    </tr>\n",
       "    <tr>\n",
       "      <th>36</th>\n",
       "      <td>Париж</td>\n",
       "      <td>23493.37</td>\n",
       "      <td>4.14</td>\n",
       "      <td>3.30</td>\n",
       "      <td>17267.45</td>\n",
       "      <td>28695.89</td>\n",
       "    </tr>\n",
       "    <tr>\n",
       "      <th>37</th>\n",
       "      <td>Прага</td>\n",
       "      <td>12724.50</td>\n",
       "      <td>4.23</td>\n",
       "      <td>3.71</td>\n",
       "      <td>7438.31</td>\n",
       "      <td>13924.91</td>\n",
       "    </tr>\n",
       "    <tr>\n",
       "      <th>38</th>\n",
       "      <td>Пусан</td>\n",
       "      <td>5444.81</td>\n",
       "      <td>4.13</td>\n",
       "      <td>2.76</td>\n",
       "      <td>4169.07</td>\n",
       "      <td>6378.86</td>\n",
       "    </tr>\n",
       "    <tr>\n",
       "      <th>39</th>\n",
       "      <td>Пхукет</td>\n",
       "      <td>11697.20</td>\n",
       "      <td>4.23</td>\n",
       "      <td>3.39</td>\n",
       "      <td>6734.30</td>\n",
       "      <td>12723.72</td>\n",
       "    </tr>\n",
       "    <tr>\n",
       "      <th>40</th>\n",
       "      <td>Рим</td>\n",
       "      <td>27459.28</td>\n",
       "      <td>4.24</td>\n",
       "      <td>3.05</td>\n",
       "      <td>13719.47</td>\n",
       "      <td>24869.02</td>\n",
       "    </tr>\n",
       "    <tr>\n",
       "      <th>41</th>\n",
       "      <td>Родос</td>\n",
       "      <td>8783.11</td>\n",
       "      <td>4.32</td>\n",
       "      <td>3.22</td>\n",
       "      <td>8233.02</td>\n",
       "      <td>13686.24</td>\n",
       "    </tr>\n",
       "    <tr>\n",
       "      <th>42</th>\n",
       "      <td>Сеул</td>\n",
       "      <td>12740.58</td>\n",
       "      <td>4.11</td>\n",
       "      <td>2.93</td>\n",
       "      <td>6660.44</td>\n",
       "      <td>10413.52</td>\n",
       "    </tr>\n",
       "    <tr>\n",
       "      <th>43</th>\n",
       "      <td>Сиде</td>\n",
       "      <td>16895.35</td>\n",
       "      <td>4.17</td>\n",
       "      <td>4.22</td>\n",
       "      <td>8117.80</td>\n",
       "      <td>21610.88</td>\n",
       "    </tr>\n",
       "    <tr>\n",
       "      <th>44</th>\n",
       "      <td>Сидней</td>\n",
       "      <td>17745.44</td>\n",
       "      <td>3.90</td>\n",
       "      <td>3.65</td>\n",
       "      <td>12426.28</td>\n",
       "      <td>19630.55</td>\n",
       "    </tr>\n",
       "    <tr>\n",
       "      <th>45</th>\n",
       "      <td>Стокгольм</td>\n",
       "      <td>12424.28</td>\n",
       "      <td>3.99</td>\n",
       "      <td>3.73</td>\n",
       "      <td>9562.85</td>\n",
       "      <td>15480.98</td>\n",
       "    </tr>\n",
       "    <tr>\n",
       "      <th>46</th>\n",
       "      <td>Тбилиси</td>\n",
       "      <td>7749.80</td>\n",
       "      <td>4.36</td>\n",
       "      <td>4.19</td>\n",
       "      <td>4272.96</td>\n",
       "      <td>6394.93</td>\n",
       "    </tr>\n",
       "    <tr>\n",
       "      <th>47</th>\n",
       "      <td>Токио</td>\n",
       "      <td>23642.10</td>\n",
       "      <td>4.03</td>\n",
       "      <td>2.93</td>\n",
       "      <td>10152.70</td>\n",
       "      <td>17656.87</td>\n",
       "    </tr>\n",
       "    <tr>\n",
       "      <th>48</th>\n",
       "      <td>Улцинь</td>\n",
       "      <td>6397.18</td>\n",
       "      <td>4.24</td>\n",
       "      <td>3.61</td>\n",
       "      <td>5030.11</td>\n",
       "      <td>7928.04</td>\n",
       "    </tr>\n",
       "    <tr>\n",
       "      <th>49</th>\n",
       "      <td>Хургада</td>\n",
       "      <td>11560.79</td>\n",
       "      <td>4.32</td>\n",
       "      <td>4.29</td>\n",
       "      <td>8027.80</td>\n",
       "      <td>12532.95</td>\n",
       "    </tr>\n",
       "  </tbody>\n",
       "</table>\n",
       "</div>"
      ],
      "text/plain": [
       "            city     price  rating  stars  lowest_price  highest_price\n",
       "0       Абу-Даби  18303.42    4.31   4.25      12737.01       22920.66\n",
       "1         Аланья   6184.71    4.09   4.01       6203.38       22943.75\n",
       "2       Алма-Ата   8978.38    3.87   3.75       6824.16        8686.99\n",
       "3         Астана  12700.33    4.02   3.65       4857.21        6522.76\n",
       "4          Афины  13724.45    4.20   3.37       8370.70       15814.96\n",
       "5        Бангкок  12904.20    4.19   3.27       4312.44        6000.85\n",
       "6      Барселона  21655.00    4.13   3.08      14238.31       24980.84\n",
       "7         Батуми   7077.57    4.26    NaN       3819.64        5469.89\n",
       "8         Берлин  11799.60    3.97   3.38       8858.00       14292.74\n",
       "9      Бирмингем   8122.56    3.85   3.13       7497.76       12476.31\n",
       "10         Будва  12064.11    4.30   3.70       6919.65       11369.19\n",
       "11  Буэнос-Айрес  13786.86    4.00   3.42       7360.87       11535.76\n",
       "12      Ванкувер  19344.23    4.12   3.37      15224.42       28585.15\n",
       "13      Велигаме  14066.67    4.47   3.17       7795.79       12554.74\n",
       "14       Венеция  30257.25    4.22   3.03      14696.97       29367.47\n",
       "15     Гейрангер       NaN    4.21   3.38      12299.50       21350.12\n",
       "16         Гюмри       NaN    4.54   3.50       4326.56        5167.61\n",
       "17         Дубай  18231.91    4.20   3.93      10490.84       21193.59\n",
       "18        Ереван   6767.05    4.25   3.52       4548.14        6694.23\n",
       "19          Каир   8718.78    4.00   3.47       6242.99        8792.32\n",
       "20      Канберра  10477.33    3.91   3.97      10574.06       14654.40\n",
       "21         Канди       NaN    4.36   3.00       5033.28        7493.97\n",
       "22  Карловы Вары   8636.00    4.31   4.00       8653.64       12127.56\n",
       "23       Кирения  11923.46    4.08   3.81      12714.24       19163.85\n",
       "24        Кируна  29201.00    4.32   3.00      13685.62       26129.69\n",
       "25        Лондон  19789.40    3.98   3.49      17491.97       28786.59\n",
       "26  Лос-Анджелес  19408.40    3.71   2.80      15534.49       21255.18\n",
       "27        Мадрид  19066.32    3.99   2.94      10527.56       19014.39\n",
       "28       Марсель  13531.50    3.88   2.97       8736.22       12279.97\n",
       "29       Мендоса  32364.50    4.11   3.27       7555.75       10652.25\n",
       "30        Мюнхен  11327.45    3.90   3.44       9260.78       14635.16\n",
       "31          Нара  15673.75    4.13   2.85      10366.76       16606.42\n",
       "32       Никосия   8615.60    4.23   3.31       7762.37       10141.44\n",
       "33      Нью-Йорк  29016.80    4.16   3.60      23313.59       42266.53\n",
       "34          Осло  14761.00    3.96   3.46      11717.02       17208.32\n",
       "35        Оттава  14487.27    4.10   3.01      11244.08       15022.53\n",
       "36         Париж  23493.37    4.14   3.30      17267.45       28695.89\n",
       "37         Прага  12724.50    4.23   3.71       7438.31       13924.91\n",
       "38         Пусан   5444.81    4.13   2.76       4169.07        6378.86\n",
       "39        Пхукет  11697.20    4.23   3.39       6734.30       12723.72\n",
       "40           Рим  27459.28    4.24   3.05      13719.47       24869.02\n",
       "41         Родос   8783.11    4.32   3.22       8233.02       13686.24\n",
       "42          Сеул  12740.58    4.11   2.93       6660.44       10413.52\n",
       "43          Сиде  16895.35    4.17   4.22       8117.80       21610.88\n",
       "44        Сидней  17745.44    3.90   3.65      12426.28       19630.55\n",
       "45     Стокгольм  12424.28    3.99   3.73       9562.85       15480.98\n",
       "46       Тбилиси   7749.80    4.36   4.19       4272.96        6394.93\n",
       "47         Токио  23642.10    4.03   2.93      10152.70       17656.87\n",
       "48        Улцинь   6397.18    4.24   3.61       5030.11        7928.04\n",
       "49       Хургада  11560.79    4.32   4.29       8027.80       12532.95"
      ]
     },
     "execution_count": 531,
     "metadata": {},
     "output_type": "execute_result"
    }
   ],
   "source": [
    "hotels = pd.read_csv('average.csv')\n"
   ]
  },
  {
   "cell_type": "markdown",
   "id": "dbf31852",
   "metadata": {},
   "source": [
    "# Сбор топ-50"
   ]
  },
  {
   "cell_type": "code",
   "execution_count": 612,
   "id": "0fdb9ba4",
   "metadata": {},
   "outputs": [],
   "source": [
    "hotels_top = pd.read_csv('top_50.csv')\n",
    "hotels_top['mean_price'] = (hotels_top['lowest_price'] + hotels_top['highest_price'])/2"
   ]
  },
  {
   "cell_type": "code",
   "execution_count": 613,
   "id": "271e0ac2",
   "metadata": {},
   "outputs": [],
   "source": [
    "hotels_top = hotels_top.drop(['price', 'lowest_price', 'highest_price', 'price_range'], axis =1)"
   ]
  },
  {
   "cell_type": "code",
   "execution_count": 653,
   "id": "c72e0129",
   "metadata": {},
   "outputs": [],
   "source": [
    "hotels_top = hotels_top.groupby('city').apply(lambda x: x.head(11) if x.name == 'Кируна' else x)"
   ]
  },
  {
   "cell_type": "code",
   "execution_count": 681,
   "id": "1fa686ef",
   "metadata": {},
   "outputs": [],
   "source": [
    "hotels_top = hotels_top.reset_index(drop=True)\n",
    "hotels_top = hotels_top.drop('city', axis = 1)"
   ]
  },
  {
   "cell_type": "code",
   "execution_count": 720,
   "id": "73a6faf5",
   "metadata": {},
   "outputs": [],
   "source": [
    "gen_top = pd.read_csv('df.csv', index_col = 0)\n",
    "cit = {'Erevan':'Ереван', 'Sydney':'Сидней', 'Canberra':'Канберра', 'Birmingham':'Бирмингем', 'London':'Лондон', 'Buenos Aires':'Буэнос-Айрес', 'Mendoza':'Мендоса', 'Gyumri':'Гюмри', 'Berlin':'Берлин', 'Munich':'Мюнхен', 'Athens':'Афины', 'Rhodes':'Родос', 'Batumi':'Батуми', 'Tbilisi':'Тбилиси', 'Hurghada':'Хургада', 'Cairo':'Каир', 'Madrid':'Мадрид', 'Barcelona':'Барселона', 'Rome':'Рим', 'Venezia':'Венеция', 'Astana':'Астана', 'Almata':'Алма-Ата', 'Vancouver':'Ванкувер', 'Ottava':'Оттава', 'Kirenia':'Кирения', 'Nikosia':'Никосия', 'Gayranger':'Гейрангер', 'Oslo':'Осло', 'Abu Dhabi':'Абу-Даби', 'Dubai':'Дубай', 'New York':'Нью-Йорк', 'Los Angeles':'Лос-Анджелес', 'Phuket':'Пхукет', 'Bangkok':'Бангкок', 'Alanya':'Аланья', 'Side':'Сиде', 'Paris':'Париж', 'Marcel':'Марсель', 'Budva':'Будва','Ulcinj':'Улцинь', 'Prague':'Прага', 'Karlovy Vary':'Карловы Вары', 'Stockholm':'Стокгольм', 'Kiruna':'Кируна', 'Kandy':'Канди', 'Veligame':'Велигаме', 'Seoul':'Сеул', 'Pusan':'Пусан', 'Tokyo':'Токио', 'Nara':'Нара'}\n",
    "del gen_top['city']\n",
    "cities = []\n",
    "for i in gen_top['city.1']:\n",
    "    for key in cit:\n",
    "        if i == key:\n",
    "            cities.append(cit[key])\n",
    "gen_top['city.1'] = cities\n",
    "gen_top= gen_top.rename(columns ={'city.1' : 'city', 'names' : 'rest_name', 'mean_rate' : 'mean_rest_rate'})"
   ]
  },
  {
   "cell_type": "code",
   "execution_count": 721,
   "id": "3688e81d",
   "metadata": {},
   "outputs": [],
   "source": [
    "gen_top = gen_top.groupby('city').apply(lambda x: x.head(8) if x.name == 'Гейрангер' else (x.head(18) if x.name == 'Гюмри' else (x.head(33) if x.name == 'Кирения' else(x.head(43) if x.name == 'Велигаме' else x))))"
   ]
  },
  {
   "cell_type": "code",
   "execution_count": 722,
   "id": "ce06f50e",
   "metadata": {},
   "outputs": [],
   "source": [
    "gen_top = gen_top.reset_index(drop=True)"
   ]
  },
  {
   "cell_type": "code",
   "execution_count": 723,
   "id": "550bd5b1",
   "metadata": {},
   "outputs": [
    {
     "data": {
      "text/html": [
       "<div>\n",
       "<style scoped>\n",
       "    .dataframe tbody tr th:only-of-type {\n",
       "        vertical-align: middle;\n",
       "    }\n",
       "\n",
       "    .dataframe tbody tr th {\n",
       "        vertical-align: top;\n",
       "    }\n",
       "\n",
       "    .dataframe thead th {\n",
       "        text-align: right;\n",
       "    }\n",
       "</style>\n",
       "<table border=\"1\" class=\"dataframe\">\n",
       "  <thead>\n",
       "    <tr style=\"text-align: right;\">\n",
       "      <th></th>\n",
       "      <th>ticket_price</th>\n",
       "      <th>flight_time</th>\n",
       "      <th>flight_time_minutes</th>\n",
       "      <th>mean_luggage_cost</th>\n",
       "      <th>rest_name</th>\n",
       "      <th>rate</th>\n",
       "      <th>mean_rest_rate</th>\n",
       "      <th>min_price</th>\n",
       "      <th>max_price</th>\n",
       "      <th>city</th>\n",
       "      <th>country</th>\n",
       "    </tr>\n",
       "  </thead>\n",
       "  <tbody>\n",
       "    <tr>\n",
       "      <th>0</th>\n",
       "      <td>17058</td>\n",
       "      <td>1д 16ч 5м</td>\n",
       "      <td>2405</td>\n",
       "      <td>6068.1</td>\n",
       "      <td>Glow - Poolside Sports Bar</td>\n",
       "      <td>5.0</td>\n",
       "      <td>4.390572</td>\n",
       "      <td>1830.0</td>\n",
       "      <td>5489.0</td>\n",
       "      <td>Абу-Даби</td>\n",
       "      <td>UEA</td>\n",
       "    </tr>\n",
       "    <tr>\n",
       "      <th>1</th>\n",
       "      <td>30223</td>\n",
       "      <td>9ч 40м</td>\n",
       "      <td>580</td>\n",
       "      <td>6068.1</td>\n",
       "      <td>Art Lounge</td>\n",
       "      <td>5.0</td>\n",
       "      <td>4.390572</td>\n",
       "      <td>NaN</td>\n",
       "      <td>NaN</td>\n",
       "      <td>Абу-Даби</td>\n",
       "      <td>UEA</td>\n",
       "    </tr>\n",
       "    <tr>\n",
       "      <th>2</th>\n",
       "      <td>17877</td>\n",
       "      <td>16ч 5м</td>\n",
       "      <td>965</td>\n",
       "      <td>6068.1</td>\n",
       "      <td>Cabana Beach Bar &amp; Grill</td>\n",
       "      <td>5.0</td>\n",
       "      <td>4.390572</td>\n",
       "      <td>915.0</td>\n",
       "      <td>2745.0</td>\n",
       "      <td>Абу-Даби</td>\n",
       "      <td>UEA</td>\n",
       "    </tr>\n",
       "    <tr>\n",
       "      <th>3</th>\n",
       "      <td>19085</td>\n",
       "      <td>1д 18ч 5м</td>\n",
       "      <td>2525</td>\n",
       "      <td>6068.1</td>\n",
       "      <td>BB Social Dining</td>\n",
       "      <td>5.0</td>\n",
       "      <td>4.390572</td>\n",
       "      <td>NaN</td>\n",
       "      <td>NaN</td>\n",
       "      <td>Абу-Даби</td>\n",
       "      <td>UEA</td>\n",
       "    </tr>\n",
       "    <tr>\n",
       "      <th>4</th>\n",
       "      <td>19885</td>\n",
       "      <td>18ч 5м</td>\n",
       "      <td>1085</td>\n",
       "      <td>6068.1</td>\n",
       "      <td>Mosaic Restaurant - Al Muroor</td>\n",
       "      <td>5.0</td>\n",
       "      <td>4.390572</td>\n",
       "      <td>747.0</td>\n",
       "      <td>3736.0</td>\n",
       "      <td>Абу-Даби</td>\n",
       "      <td>UEA</td>\n",
       "    </tr>\n",
       "    <tr>\n",
       "      <th>...</th>\n",
       "      <td>...</td>\n",
       "      <td>...</td>\n",
       "      <td>...</td>\n",
       "      <td>...</td>\n",
       "      <td>...</td>\n",
       "      <td>...</td>\n",
       "      <td>...</td>\n",
       "      <td>...</td>\n",
       "      <td>...</td>\n",
       "      <td>...</td>\n",
       "      <td>...</td>\n",
       "    </tr>\n",
       "    <tr>\n",
       "      <th>2358</th>\n",
       "      <td>33902</td>\n",
       "      <td>1д 10ч 50м</td>\n",
       "      <td>2090</td>\n",
       "      <td>4510.9</td>\n",
       "      <td>Sumo sushi</td>\n",
       "      <td>5.0</td>\n",
       "      <td>4.492857</td>\n",
       "      <td>1982.0</td>\n",
       "      <td>3963.0</td>\n",
       "      <td>Хургада</td>\n",
       "      <td>Egypt</td>\n",
       "    </tr>\n",
       "    <tr>\n",
       "      <th>2359</th>\n",
       "      <td>33939</td>\n",
       "      <td>2д  25м</td>\n",
       "      <td>2905</td>\n",
       "      <td>4510.9</td>\n",
       "      <td>Sebun Sushi</td>\n",
       "      <td>5.0</td>\n",
       "      <td>4.492857</td>\n",
       "      <td>1372.0</td>\n",
       "      <td>45746.0</td>\n",
       "      <td>Хургада</td>\n",
       "      <td>Egypt</td>\n",
       "    </tr>\n",
       "    <tr>\n",
       "      <th>2360</th>\n",
       "      <td>33939</td>\n",
       "      <td>1д 19ч 15м</td>\n",
       "      <td>2595</td>\n",
       "      <td>4510.9</td>\n",
       "      <td>Lophelia Seafood Restaurant</td>\n",
       "      <td>5.0</td>\n",
       "      <td>4.492857</td>\n",
       "      <td>NaN</td>\n",
       "      <td>NaN</td>\n",
       "      <td>Хургада</td>\n",
       "      <td>Egypt</td>\n",
       "    </tr>\n",
       "    <tr>\n",
       "      <th>2361</th>\n",
       "      <td>35080</td>\n",
       "      <td>1д 4ч 10м</td>\n",
       "      <td>1690</td>\n",
       "      <td>4510.9</td>\n",
       "      <td>Turquoise Main Restaurant</td>\n",
       "      <td>5.0</td>\n",
       "      <td>4.492857</td>\n",
       "      <td>NaN</td>\n",
       "      <td>NaN</td>\n",
       "      <td>Хургада</td>\n",
       "      <td>Egypt</td>\n",
       "    </tr>\n",
       "    <tr>\n",
       "      <th>2362</th>\n",
       "      <td>35264</td>\n",
       "      <td>1д 5ч</td>\n",
       "      <td>1740</td>\n",
       "      <td>4510.9</td>\n",
       "      <td>Vanille Bar et Restaurant</td>\n",
       "      <td>5.0</td>\n",
       "      <td>4.492857</td>\n",
       "      <td>178.0</td>\n",
       "      <td>2664.0</td>\n",
       "      <td>Хургада</td>\n",
       "      <td>Egypt</td>\n",
       "    </tr>\n",
       "  </tbody>\n",
       "</table>\n",
       "<p>2363 rows × 11 columns</p>\n",
       "</div>"
      ],
      "text/plain": [
       "      ticket_price flight_time  flight_time_minutes  mean_luggage_cost  \\\n",
       "0            17058   1д 16ч 5м                 2405             6068.1   \n",
       "1            30223      9ч 40м                  580             6068.1   \n",
       "2            17877      16ч 5м                  965             6068.1   \n",
       "3            19085   1д 18ч 5м                 2525             6068.1   \n",
       "4            19885      18ч 5м                 1085             6068.1   \n",
       "...            ...         ...                  ...                ...   \n",
       "2358         33902  1д 10ч 50м                 2090             4510.9   \n",
       "2359         33939     2д  25м                 2905             4510.9   \n",
       "2360         33939  1д 19ч 15м                 2595             4510.9   \n",
       "2361         35080   1д 4ч 10м                 1690             4510.9   \n",
       "2362         35264       1д 5ч                 1740             4510.9   \n",
       "\n",
       "                          rest_name  rate  mean_rest_rate  min_price  \\\n",
       "0        Glow - Poolside Sports Bar   5.0        4.390572     1830.0   \n",
       "1                        Art Lounge   5.0        4.390572        NaN   \n",
       "2          Cabana Beach Bar & Grill   5.0        4.390572      915.0   \n",
       "3                  BB Social Dining   5.0        4.390572        NaN   \n",
       "4     Mosaic Restaurant - Al Muroor   5.0        4.390572      747.0   \n",
       "...                             ...   ...             ...        ...   \n",
       "2358                     Sumo sushi   5.0        4.492857     1982.0   \n",
       "2359                    Sebun Sushi   5.0        4.492857     1372.0   \n",
       "2360    Lophelia Seafood Restaurant   5.0        4.492857        NaN   \n",
       "2361      Turquoise Main Restaurant   5.0        4.492857        NaN   \n",
       "2362      Vanille Bar et Restaurant   5.0        4.492857      178.0   \n",
       "\n",
       "      max_price      city country  \n",
       "0        5489.0  Абу-Даби     UEA  \n",
       "1           NaN  Абу-Даби     UEA  \n",
       "2        2745.0  Абу-Даби     UEA  \n",
       "3           NaN  Абу-Даби     UEA  \n",
       "4        3736.0  Абу-Даби     UEA  \n",
       "...         ...       ...     ...  \n",
       "2358     3963.0   Хургада   Egypt  \n",
       "2359    45746.0   Хургада   Egypt  \n",
       "2360        NaN   Хургада   Egypt  \n",
       "2361        NaN   Хургада   Egypt  \n",
       "2362     2664.0   Хургада   Egypt  \n",
       "\n",
       "[2363 rows x 11 columns]"
      ]
     },
     "execution_count": 723,
     "metadata": {},
     "output_type": "execute_result"
    }
   ],
   "source": [
    "gen_top"
   ]
  },
  {
   "cell_type": "code",
   "execution_count": 724,
   "id": "31abafb1",
   "metadata": {},
   "outputs": [],
   "source": [
    "gen_top = gen_top.drop(['ticket_price', 'flight_time', 'flight_time_minutes', 'mean_luggage_cost', 'mean_rest_rate'], axis = 1)\n",
    "gen_top['mean_rest_price'] = (gen_top['min_price'] + gen_top[\"max_price\"])/2\n",
    "gen_top = gen_top.drop(['min_price', 'max_price'], axis = 1)"
   ]
  },
  {
   "cell_type": "code",
   "execution_count": 725,
   "id": "4cc805dc",
   "metadata": {},
   "outputs": [],
   "source": [
    "gen_top = pd.concat([gen_top, hotels_top], axis = 1)"
   ]
  },
  {
   "cell_type": "code",
   "execution_count": 726,
   "id": "90d3259a",
   "metadata": {},
   "outputs": [],
   "source": [
    "\n",
    "gen_top = gen_top.rename(columns={'rate': 'rest_rating', 'hotel': 'hotel_name', 'rating': 'hotel_rating', 'mean_price': 'mean_hotel_price'})\n",
    "gen_top = gen_top[['country',  'city', 'rest_name', 'rest_rating', 'mean_rest_price', 'hotel_name', 'url','hotel_rating', 'mean_hotel_price', 'stars']]"
   ]
  },
  {
   "cell_type": "code",
   "execution_count": 727,
   "id": "2836c7ec",
   "metadata": {},
   "outputs": [
    {
     "data": {
      "text/html": [
       "<div>\n",
       "<style scoped>\n",
       "    .dataframe tbody tr th:only-of-type {\n",
       "        vertical-align: middle;\n",
       "    }\n",
       "\n",
       "    .dataframe tbody tr th {\n",
       "        vertical-align: top;\n",
       "    }\n",
       "\n",
       "    .dataframe thead th {\n",
       "        text-align: right;\n",
       "    }\n",
       "</style>\n",
       "<table border=\"1\" class=\"dataframe\">\n",
       "  <thead>\n",
       "    <tr style=\"text-align: right;\">\n",
       "      <th></th>\n",
       "      <th>country</th>\n",
       "      <th>city</th>\n",
       "      <th>rest_name</th>\n",
       "      <th>rest_rating</th>\n",
       "      <th>mean_rest_price</th>\n",
       "      <th>hotel_name</th>\n",
       "      <th>url</th>\n",
       "      <th>hotel_rating</th>\n",
       "      <th>mean_hotel_price</th>\n",
       "      <th>stars</th>\n",
       "    </tr>\n",
       "  </thead>\n",
       "  <tbody>\n",
       "    <tr>\n",
       "      <th>0</th>\n",
       "      <td>UEA</td>\n",
       "      <td>Абу-Даби</td>\n",
       "      <td>Glow - Poolside Sports Bar</td>\n",
       "      <td>5.0</td>\n",
       "      <td>3659.5</td>\n",
       "      <td>Джумейрах Этихад Тауэрс</td>\n",
       "      <td>https://www.tripadvisor.ru/Hotel_Review-g29401...</td>\n",
       "      <td>5.0</td>\n",
       "      <td>20837.5</td>\n",
       "      <td>5.0</td>\n",
       "    </tr>\n",
       "    <tr>\n",
       "      <th>1</th>\n",
       "      <td>UEA</td>\n",
       "      <td>Абу-Даби</td>\n",
       "      <td>Art Lounge</td>\n",
       "      <td>5.0</td>\n",
       "      <td>NaN</td>\n",
       "      <td>Эмират Палас Отель</td>\n",
       "      <td>https://www.tripadvisor.ru/Hotel_Review-g29401...</td>\n",
       "      <td>5.0</td>\n",
       "      <td>48833.0</td>\n",
       "      <td>5.0</td>\n",
       "    </tr>\n",
       "    <tr>\n",
       "      <th>2</th>\n",
       "      <td>UEA</td>\n",
       "      <td>Абу-Даби</td>\n",
       "      <td>Cabana Beach Bar &amp; Grill</td>\n",
       "      <td>5.0</td>\n",
       "      <td>1830.0</td>\n",
       "      <td>The WB Abu Dhabi Curio Collection</td>\n",
       "      <td>https://www.tripadvisor.ru/Hotel_Review-g29401...</td>\n",
       "      <td>5.0</td>\n",
       "      <td>29819.5</td>\n",
       "      <td>4.5</td>\n",
       "    </tr>\n",
       "    <tr>\n",
       "      <th>3</th>\n",
       "      <td>UEA</td>\n",
       "      <td>Абу-Даби</td>\n",
       "      <td>BB Social Dining</td>\n",
       "      <td>5.0</td>\n",
       "      <td>NaN</td>\n",
       "      <td>Армед Форс Оффисерс Клуб &amp; Отель</td>\n",
       "      <td>https://www.tripadvisor.ru/Hotel_Review-g29401...</td>\n",
       "      <td>5.0</td>\n",
       "      <td>18420.5</td>\n",
       "      <td>5.0</td>\n",
       "    </tr>\n",
       "    <tr>\n",
       "      <th>4</th>\n",
       "      <td>UEA</td>\n",
       "      <td>Абу-Даби</td>\n",
       "      <td>Mosaic Restaurant - Al Muroor</td>\n",
       "      <td>5.0</td>\n",
       "      <td>2241.5</td>\n",
       "      <td>Сен Режис Абу-Даби</td>\n",
       "      <td>https://www.tripadvisor.ru/Hotel_Review-g29401...</td>\n",
       "      <td>5.0</td>\n",
       "      <td>27448.5</td>\n",
       "      <td>5.0</td>\n",
       "    </tr>\n",
       "  </tbody>\n",
       "</table>\n",
       "</div>"
      ],
      "text/plain": [
       "  country      city                      rest_name  rest_rating  \\\n",
       "0     UEA  Абу-Даби     Glow - Poolside Sports Bar          5.0   \n",
       "1     UEA  Абу-Даби                     Art Lounge          5.0   \n",
       "2     UEA  Абу-Даби       Cabana Beach Bar & Grill          5.0   \n",
       "3     UEA  Абу-Даби               BB Social Dining          5.0   \n",
       "4     UEA  Абу-Даби  Mosaic Restaurant - Al Muroor          5.0   \n",
       "\n",
       "   mean_rest_price                         hotel_name  \\\n",
       "0           3659.5            Джумейрах Этихад Тауэрс   \n",
       "1              NaN                 Эмират Палас Отель   \n",
       "2           1830.0  The WB Abu Dhabi Curio Collection   \n",
       "3              NaN   Армед Форс Оффисерс Клуб & Отель   \n",
       "4           2241.5                 Сен Режис Абу-Даби   \n",
       "\n",
       "                                                 url  hotel_rating  \\\n",
       "0  https://www.tripadvisor.ru/Hotel_Review-g29401...           5.0   \n",
       "1  https://www.tripadvisor.ru/Hotel_Review-g29401...           5.0   \n",
       "2  https://www.tripadvisor.ru/Hotel_Review-g29401...           5.0   \n",
       "3  https://www.tripadvisor.ru/Hotel_Review-g29401...           5.0   \n",
       "4  https://www.tripadvisor.ru/Hotel_Review-g29401...           5.0   \n",
       "\n",
       "   mean_hotel_price  stars  \n",
       "0           20837.5    5.0  \n",
       "1           48833.0    5.0  \n",
       "2           29819.5    4.5  \n",
       "3           18420.5    5.0  \n",
       "4           27448.5    5.0  "
      ]
     },
     "execution_count": 727,
     "metadata": {},
     "output_type": "execute_result"
    }
   ],
   "source": [
    "gen_top.head()"
   ]
  },
  {
   "cell_type": "markdown",
   "id": "cc39c703",
   "metadata": {},
   "source": [
    "# Сбор усредненного датафрейма"
   ]
  },
  {
   "cell_type": "code",
   "execution_count": 697,
   "id": "d524fca1",
   "metadata": {},
   "outputs": [],
   "source": [
    "temp = flight.groupby('city')[['ticket_price','mean_luggage_cost','flight_time_minutes']].mean()\n",
    "temp = pd.DataFrame(temp)\n",
    "temp_1 = rests.groupby('city')[['rate', 'min_price', 'max_price']].mean()\n",
    "temp_1 = pd.DataFrame(temp_1)\n",
    "gen_all = other.merge(temp, on = 'city', how = 'left')\n",
    "gen_all = gen_all.merge(temp_1, on = 'city', how = 'left')\n",
    "gen_all = gen_all.merge(hotels, on = 'city', how = 'left')\n",
    "gen_all = gen_all.rename(columns = {'ticket_price':'ticket_price, руб.', 'flight_time_minutes' : 'flight_time_minutes', 'min_price': 'mean_min_rest_price', 'max_price': 'mean_max_rest_price', 'rate': 'rest_rating', 'price' : 'hotel_price', 'rating': 'hotel_rating', 'mean_luggage_cost': 'luggage_cost', 'transport ': 'transport_grade', 'cards': 'cards_grade', \n",
    "                            'stars':'stars_grade', 'lang': 'lang_grade'})"
   ]
  },
  {
   "cell_type": "code",
   "execution_count": 698,
   "id": "273dbb3d",
   "metadata": {},
   "outputs": [],
   "source": [
    "gen_all['rest_price'] = (gen_all['mean_min_rest_price'] + gen_all['mean_max_rest_price'])/2"
   ]
  },
  {
   "cell_type": "code",
   "execution_count": 699,
   "id": "0ff2b811",
   "metadata": {},
   "outputs": [],
   "source": [
    "gen_all = gen_all.drop(['mean_min_rest_price', 'mean_max_rest_price', 'lowest_price', 'highest_price'], axis = 1)"
   ]
  },
  {
   "cell_type": "code",
   "execution_count": 700,
   "id": "6f6f082c",
   "metadata": {},
   "outputs": [],
   "source": [
    "gen_all['hotel_price'] = gen_all['hotel_price'].fillna(gen_all['hotel_price'].mean())\n",
    "gen_all['stars_grade'] = gen_all['stars_grade'].fillna(gen_all['stars_grade'].mean())"
   ]
  },
  {
   "cell_type": "code",
   "execution_count": 701,
   "id": "ce3070a4",
   "metadata": {},
   "outputs": [
    {
     "data": {
      "text/html": [
       "<div>\n",
       "<style scoped>\n",
       "    .dataframe tbody tr th:only-of-type {\n",
       "        vertical-align: middle;\n",
       "    }\n",
       "\n",
       "    .dataframe tbody tr th {\n",
       "        vertical-align: top;\n",
       "    }\n",
       "\n",
       "    .dataframe thead th {\n",
       "        text-align: right;\n",
       "    }\n",
       "</style>\n",
       "<table border=\"1\" class=\"dataframe\">\n",
       "  <thead>\n",
       "    <tr style=\"text-align: right;\">\n",
       "      <th></th>\n",
       "      <th>transport_grade</th>\n",
       "      <th>insurance, руб.</th>\n",
       "      <th>cards_grade</th>\n",
       "      <th>lang_grade</th>\n",
       "      <th>ticket_price, руб.</th>\n",
       "      <th>luggage_cost</th>\n",
       "      <th>flight_time_minutes</th>\n",
       "      <th>rest_rating</th>\n",
       "      <th>hotel_price</th>\n",
       "      <th>hotel_rating</th>\n",
       "      <th>stars_grade</th>\n",
       "      <th>rest_price</th>\n",
       "    </tr>\n",
       "  </thead>\n",
       "  <tbody>\n",
       "    <tr>\n",
       "      <th>count</th>\n",
       "      <td>50.000000</td>\n",
       "      <td>50.000000</td>\n",
       "      <td>50.000000</td>\n",
       "      <td>50.000000</td>\n",
       "      <td>50.00000</td>\n",
       "      <td>50.000000</td>\n",
       "      <td>50.000000</td>\n",
       "      <td>50.000000</td>\n",
       "      <td>50.000000</td>\n",
       "      <td>50.00000</td>\n",
       "      <td>50.000000</td>\n",
       "      <td>50.000000</td>\n",
       "    </tr>\n",
       "    <tr>\n",
       "      <th>mean</th>\n",
       "      <td>4.220000</td>\n",
       "      <td>19193.020000</td>\n",
       "      <td>2.120000</td>\n",
       "      <td>1.900000</td>\n",
       "      <td>50472.50800</td>\n",
       "      <td>8905.532397</td>\n",
       "      <td>1974.060000</td>\n",
       "      <td>4.265904</td>\n",
       "      <td>14930.311702</td>\n",
       "      <td>4.13480</td>\n",
       "      <td>3.434286</td>\n",
       "      <td>8020.743031</td>\n",
       "    </tr>\n",
       "    <tr>\n",
       "      <th>std</th>\n",
       "      <td>0.995705</td>\n",
       "      <td>16421.695907</td>\n",
       "      <td>1.255843</td>\n",
       "      <td>0.580288</td>\n",
       "      <td>33596.91513</td>\n",
       "      <td>4321.972979</td>\n",
       "      <td>677.909296</td>\n",
       "      <td>0.202403</td>\n",
       "      <td>6664.546282</td>\n",
       "      <td>0.17044</td>\n",
       "      <td>0.401177</td>\n",
       "      <td>29719.344393</td>\n",
       "    </tr>\n",
       "    <tr>\n",
       "      <th>min</th>\n",
       "      <td>2.000000</td>\n",
       "      <td>1086.000000</td>\n",
       "      <td>1.000000</td>\n",
       "      <td>1.000000</td>\n",
       "      <td>14803.80000</td>\n",
       "      <td>4254.666667</td>\n",
       "      <td>911.500000</td>\n",
       "      <td>3.636364</td>\n",
       "      <td>5444.810000</td>\n",
       "      <td>3.71000</td>\n",
       "      <td>2.760000</td>\n",
       "      <td>929.593220</td>\n",
       "    </tr>\n",
       "    <tr>\n",
       "      <th>25%</th>\n",
       "      <td>4.000000</td>\n",
       "      <td>6293.000000</td>\n",
       "      <td>1.000000</td>\n",
       "      <td>2.000000</td>\n",
       "      <td>30896.17500</td>\n",
       "      <td>5887.941667</td>\n",
       "      <td>1494.125000</td>\n",
       "      <td>4.142517</td>\n",
       "      <td>10689.860000</td>\n",
       "      <td>4.00000</td>\n",
       "      <td>3.092500</td>\n",
       "      <td>2038.054317</td>\n",
       "    </tr>\n",
       "    <tr>\n",
       "      <th>50%</th>\n",
       "      <td>5.000000</td>\n",
       "      <td>9372.500000</td>\n",
       "      <td>2.000000</td>\n",
       "      <td>2.000000</td>\n",
       "      <td>40587.75000</td>\n",
       "      <td>7885.000000</td>\n",
       "      <td>1795.750000</td>\n",
       "      <td>4.291773</td>\n",
       "      <td>13627.975000</td>\n",
       "      <td>4.13500</td>\n",
       "      <td>3.405000</td>\n",
       "      <td>2519.496976</td>\n",
       "    </tr>\n",
       "    <tr>\n",
       "      <th>75%</th>\n",
       "      <td>5.000000</td>\n",
       "      <td>36276.250000</td>\n",
       "      <td>3.000000</td>\n",
       "      <td>2.000000</td>\n",
       "      <td>53918.47500</td>\n",
       "      <td>10176.875000</td>\n",
       "      <td>2258.750000</td>\n",
       "      <td>4.400528</td>\n",
       "      <td>18285.542500</td>\n",
       "      <td>4.24000</td>\n",
       "      <td>3.687500</td>\n",
       "      <td>4057.969427</td>\n",
       "    </tr>\n",
       "    <tr>\n",
       "      <th>max</th>\n",
       "      <td>5.000000</td>\n",
       "      <td>51223.000000</td>\n",
       "      <td>5.000000</td>\n",
       "      <td>3.000000</td>\n",
       "      <td>181985.70000</td>\n",
       "      <td>23170.600000</td>\n",
       "      <td>3598.000000</td>\n",
       "      <td>4.720513</td>\n",
       "      <td>32364.500000</td>\n",
       "      <td>4.54000</td>\n",
       "      <td>4.290000</td>\n",
       "      <td>211069.475694</td>\n",
       "    </tr>\n",
       "  </tbody>\n",
       "</table>\n",
       "</div>"
      ],
      "text/plain": [
       "       transport_grade  insurance, руб.  cards_grade  lang_grade  \\\n",
       "count        50.000000        50.000000    50.000000   50.000000   \n",
       "mean          4.220000     19193.020000     2.120000    1.900000   \n",
       "std           0.995705     16421.695907     1.255843    0.580288   \n",
       "min           2.000000      1086.000000     1.000000    1.000000   \n",
       "25%           4.000000      6293.000000     1.000000    2.000000   \n",
       "50%           5.000000      9372.500000     2.000000    2.000000   \n",
       "75%           5.000000     36276.250000     3.000000    2.000000   \n",
       "max           5.000000     51223.000000     5.000000    3.000000   \n",
       "\n",
       "       ticket_price, руб.  luggage_cost  flight_time_minutes  rest_rating  \\\n",
       "count            50.00000     50.000000            50.000000    50.000000   \n",
       "mean          50472.50800   8905.532397          1974.060000     4.265904   \n",
       "std           33596.91513   4321.972979           677.909296     0.202403   \n",
       "min           14803.80000   4254.666667           911.500000     3.636364   \n",
       "25%           30896.17500   5887.941667          1494.125000     4.142517   \n",
       "50%           40587.75000   7885.000000          1795.750000     4.291773   \n",
       "75%           53918.47500  10176.875000          2258.750000     4.400528   \n",
       "max          181985.70000  23170.600000          3598.000000     4.720513   \n",
       "\n",
       "        hotel_price  hotel_rating  stars_grade     rest_price  \n",
       "count     50.000000      50.00000    50.000000      50.000000  \n",
       "mean   14930.311702       4.13480     3.434286    8020.743031  \n",
       "std     6664.546282       0.17044     0.401177   29719.344393  \n",
       "min     5444.810000       3.71000     2.760000     929.593220  \n",
       "25%    10689.860000       4.00000     3.092500    2038.054317  \n",
       "50%    13627.975000       4.13500     3.405000    2519.496976  \n",
       "75%    18285.542500       4.24000     3.687500    4057.969427  \n",
       "max    32364.500000       4.54000     4.290000  211069.475694  "
      ]
     },
     "execution_count": 701,
     "metadata": {},
     "output_type": "execute_result"
    }
   ],
   "source": [
    "gen_all.describe()"
   ]
  },
  {
   "cell_type": "code",
   "execution_count": 709,
   "id": "d120d0a8",
   "metadata": {},
   "outputs": [],
   "source": [
    "visa = []\n",
    "for i in gen_all['country']: \n",
    "    if i == 'Армения':\n",
    "        visa.append(2)\n",
    "    elif i == 'Казахстан':\n",
    "        visa.append(2)\n",
    "    elif i == 'Турция':\n",
    "        visa.append(2)\n",
    "    elif i == 'Черногория':\n",
    "        visa.append(2)\n",
    "    elif i == 'Грузия':\n",
    "        visa.append(2)\n",
    "    elif i == 'ОАЭ':\n",
    "        visa.append(2)\n",
    "    elif i == 'Тайланд':\n",
    "        visa.append(2)\n",
    "    elif i == 'Шри-Ланка':\n",
    "        visa.append(2)\n",
    "    elif i == 'Южная Корея':\n",
    "        viss.append(2)\n",
    "    elif i == 'Аргентина':\n",
    "        visa.append(2)\n",
    "    elif i == 'Египет':\n",
    "        visa.append(2)\n",
    "    else :\n",
    "        visa.append(1)"
   ]
  },
  {
   "cell_type": "code",
   "execution_count": 710,
   "id": "fc743cf1",
   "metadata": {},
   "outputs": [],
   "source": [
    "gen_all['visa'] = visa"
   ]
  },
  {
   "cell_type": "code",
   "execution_count": 711,
   "id": "941621b4",
   "metadata": {},
   "outputs": [],
   "source": [
    "cheat = ['insurance, руб.','ticket_price, руб.', 'luggage_cost', 'flight_time_minutes', 'rest_price', 'hotel_price']\n",
    "for i in cheat: \n",
    "    listic = []\n",
    "    for z in gen_all[i] :\n",
    "        if z < np.percentile(gen_all[i], 25) :\n",
    "            listic.append(5)\n",
    "        elif ((z < np.percentile(gen_all[i], 50)) & (z >= np.percentile(gen_all[i], 25))):\n",
    "            listic.append(4)\n",
    "        elif ((z < np.percentile(gen_all[i], 75)) & (z >= np.percentile(gen_all[i], 50))):\n",
    "            listic.append(3)\n",
    "        elif ((z < gen_all.describe()[i].max()) & (z >= np.percentile(gen_all[i], 75))):\n",
    "            listic.append(2)\n",
    "        else:\n",
    "            listic.append(1)\n",
    "    gen_all[f'{i}_grade'] = listic\n",
    "        "
   ]
  },
  {
   "cell_type": "code",
   "execution_count": 712,
   "id": "7cc7e423",
   "metadata": {},
   "outputs": [],
   "source": [
    "gen_all = gen_all[['country', 'city', 'insurance, руб.', 'ticket_price, руб.', 'luggage_cost', 'flight_time_minutes', 'rest_price', 'hotel_price', 'stars_grade','transport_grade', 'cards_grade', 'lang_grade', 'rest_rating','rest_price_grade','hotel_rating', 'hotel_price_grade','flight_time_minutes_grade', 'insurance, руб._grade', 'ticket_price, руб._grade','luggage_cost_grade', 'visa']]"
   ]
  },
  {
   "cell_type": "code",
   "execution_count": 718,
   "id": "3f06017e",
   "metadata": {},
   "outputs": [
    {
     "data": {
      "text/html": [
       "<div>\n",
       "<style scoped>\n",
       "    .dataframe tbody tr th:only-of-type {\n",
       "        vertical-align: middle;\n",
       "    }\n",
       "\n",
       "    .dataframe tbody tr th {\n",
       "        vertical-align: top;\n",
       "    }\n",
       "\n",
       "    .dataframe thead th {\n",
       "        text-align: right;\n",
       "    }\n",
       "</style>\n",
       "<table border=\"1\" class=\"dataframe\">\n",
       "  <thead>\n",
       "    <tr style=\"text-align: right;\">\n",
       "      <th></th>\n",
       "      <th>city</th>\n",
       "      <th>insurance, руб.</th>\n",
       "      <th>ticket_price, руб.</th>\n",
       "      <th>luggage_cost</th>\n",
       "      <th>flight_time_minutes</th>\n",
       "      <th>rest_price</th>\n",
       "      <th>hotel_price</th>\n",
       "      <th>stars_grade</th>\n",
       "      <th>transport_grade</th>\n",
       "      <th>cards_grade</th>\n",
       "      <th>lang_grade</th>\n",
       "      <th>rest_rating</th>\n",
       "      <th>rest_price_grade</th>\n",
       "      <th>hotel_rating</th>\n",
       "      <th>hotel_price_grade</th>\n",
       "      <th>flight_time_minutes_grade</th>\n",
       "      <th>insurance, руб._grade</th>\n",
       "      <th>ticket_price, руб._grade</th>\n",
       "      <th>luggage_cost_grade</th>\n",
       "      <th>visa</th>\n",
       "    </tr>\n",
       "  </thead>\n",
       "  <tbody>\n",
       "    <tr>\n",
       "      <th>0</th>\n",
       "      <td>Ереван</td>\n",
       "      <td>1801</td>\n",
       "      <td>14803.8</td>\n",
       "      <td>5827.888889</td>\n",
       "      <td>1183.0</td>\n",
       "      <td>5434.777228</td>\n",
       "      <td>6767.05</td>\n",
       "      <td>3.52</td>\n",
       "      <td>5</td>\n",
       "      <td>5</td>\n",
       "      <td>3</td>\n",
       "      <td>4.345882</td>\n",
       "      <td>2</td>\n",
       "      <td>4.25</td>\n",
       "      <td>5</td>\n",
       "      <td>5</td>\n",
       "      <td>5</td>\n",
       "      <td>5</td>\n",
       "      <td>5</td>\n",
       "      <td>2</td>\n",
       "    </tr>\n",
       "    <tr>\n",
       "      <th>1</th>\n",
       "      <td>Сидней</td>\n",
       "      <td>9171</td>\n",
       "      <td>69848.0</td>\n",
       "      <td>7370.900000</td>\n",
       "      <td>3170.0</td>\n",
       "      <td>2373.470790</td>\n",
       "      <td>17745.44</td>\n",
       "      <td>3.65</td>\n",
       "      <td>4</td>\n",
       "      <td>1</td>\n",
       "      <td>2</td>\n",
       "      <td>4.274790</td>\n",
       "      <td>4</td>\n",
       "      <td>3.90</td>\n",
       "      <td>3</td>\n",
       "      <td>2</td>\n",
       "      <td>4</td>\n",
       "      <td>2</td>\n",
       "      <td>4</td>\n",
       "      <td>1</td>\n",
       "    </tr>\n",
       "    <tr>\n",
       "      <th>2</th>\n",
       "      <td>Канберра</td>\n",
       "      <td>7884</td>\n",
       "      <td>106518.1</td>\n",
       "      <td>5300.800000</td>\n",
       "      <td>3451.0</td>\n",
       "      <td>1683.957237</td>\n",
       "      <td>10477.33</td>\n",
       "      <td>3.97</td>\n",
       "      <td>4</td>\n",
       "      <td>1</td>\n",
       "      <td>2</td>\n",
       "      <td>3.910204</td>\n",
       "      <td>5</td>\n",
       "      <td>3.91</td>\n",
       "      <td>5</td>\n",
       "      <td>2</td>\n",
       "      <td>4</td>\n",
       "      <td>2</td>\n",
       "      <td>5</td>\n",
       "      <td>1</td>\n",
       "    </tr>\n",
       "    <tr>\n",
       "      <th>3</th>\n",
       "      <td>Бирмингем</td>\n",
       "      <td>45170</td>\n",
       "      <td>32343.6</td>\n",
       "      <td>9588.100000</td>\n",
       "      <td>2170.0</td>\n",
       "      <td>2051.748387</td>\n",
       "      <td>8122.56</td>\n",
       "      <td>3.13</td>\n",
       "      <td>3</td>\n",
       "      <td>3</td>\n",
       "      <td>2</td>\n",
       "      <td>4.315657</td>\n",
       "      <td>4</td>\n",
       "      <td>3.85</td>\n",
       "      <td>5</td>\n",
       "      <td>3</td>\n",
       "      <td>2</td>\n",
       "      <td>4</td>\n",
       "      <td>3</td>\n",
       "      <td>1</td>\n",
       "    </tr>\n",
       "    <tr>\n",
       "      <th>4</th>\n",
       "      <td>Лондон</td>\n",
       "      <td>45170</td>\n",
       "      <td>27551.6</td>\n",
       "      <td>13269.800000</td>\n",
       "      <td>1774.5</td>\n",
       "      <td>3004.180723</td>\n",
       "      <td>19789.40</td>\n",
       "      <td>3.49</td>\n",
       "      <td>5</td>\n",
       "      <td>3</td>\n",
       "      <td>2</td>\n",
       "      <td>4.582215</td>\n",
       "      <td>3</td>\n",
       "      <td>3.98</td>\n",
       "      <td>2</td>\n",
       "      <td>4</td>\n",
       "      <td>2</td>\n",
       "      <td>5</td>\n",
       "      <td>2</td>\n",
       "      <td>1</td>\n",
       "    </tr>\n",
       "  </tbody>\n",
       "</table>\n",
       "</div>"
      ],
      "text/plain": [
       "        city  insurance, руб.  ticket_price, руб.  luggage_cost  \\\n",
       "0     Ереван             1801             14803.8   5827.888889   \n",
       "1     Сидней             9171             69848.0   7370.900000   \n",
       "2   Канберра             7884            106518.1   5300.800000   \n",
       "3  Бирмингем            45170             32343.6   9588.100000   \n",
       "4     Лондон            45170             27551.6  13269.800000   \n",
       "\n",
       "   flight_time_minutes   rest_price  hotel_price  stars_grade  \\\n",
       "0               1183.0  5434.777228      6767.05         3.52   \n",
       "1               3170.0  2373.470790     17745.44         3.65   \n",
       "2               3451.0  1683.957237     10477.33         3.97   \n",
       "3               2170.0  2051.748387      8122.56         3.13   \n",
       "4               1774.5  3004.180723     19789.40         3.49   \n",
       "\n",
       "   transport_grade  cards_grade  lang_grade  rest_rating  rest_price_grade  \\\n",
       "0                5            5           3     4.345882                 2   \n",
       "1                4            1           2     4.274790                 4   \n",
       "2                4            1           2     3.910204                 5   \n",
       "3                3            3           2     4.315657                 4   \n",
       "4                5            3           2     4.582215                 3   \n",
       "\n",
       "   hotel_rating  hotel_price_grade  flight_time_minutes_grade  \\\n",
       "0          4.25                  5                          5   \n",
       "1          3.90                  3                          2   \n",
       "2          3.91                  5                          2   \n",
       "3          3.85                  5                          3   \n",
       "4          3.98                  2                          4   \n",
       "\n",
       "   insurance, руб._grade  ticket_price, руб._grade  luggage_cost_grade  visa  \n",
       "0                      5                         5                   5     2  \n",
       "1                      4                         2                   4     1  \n",
       "2                      4                         2                   5     1  \n",
       "3                      2                         4                   3     1  \n",
       "4                      2                         5                   2     1  "
      ]
     },
     "execution_count": 718,
     "metadata": {},
     "output_type": "execute_result"
    }
   ],
   "source": [
    "gen_all.drop('country', axis = 1).head()"
   ]
  },
  {
   "cell_type": "code",
   "execution_count": 714,
   "id": "f48cdb21",
   "metadata": {},
   "outputs": [],
   "source": [
    "gen_all.to_csv('C:\\\\Users\\\\polin\\\\OneDrive\\\\Документы\\\\Python Scripts\\\\gen_all.csv')"
   ]
  },
  {
   "cell_type": "code",
   "execution_count": 690,
   "id": "f0074f09",
   "metadata": {},
   "outputs": [],
   "source": [
    "gen_top.to_csv('C:\\\\Users\\\\polin\\\\OneDrive\\\\Документы\\\\Python Scripts\\\\gen_top.csv')"
   ]
  },
  {
   "cell_type": "code",
   "execution_count": 516,
   "id": "e6ee436f",
   "metadata": {},
   "outputs": [
    {
     "name": "stdout",
     "output_type": "stream",
     "text": [
      "Requirement already satisfied: plotly==4.14.3 in c:\\users\\polin\\anaconda3\\lib\\site-packages (4.14.3)\n",
      "Requirement already satisfied: retrying>=1.3.3 in c:\\users\\polin\\anaconda3\\lib\\site-packages (from plotly==4.14.3) (1.3.4)\n",
      "Requirement already satisfied: six in c:\\users\\polin\\anaconda3\\lib\\site-packages (from plotly==4.14.3) (1.16.0)\n"
     ]
    }
   ],
   "source": [
    "!pip install plotly==4.14.3\n",
    "import plotly.graph_objects as go \n",
    "import plotly.express as px\n",
    "import pandas as pd"
   ]
  },
  {
   "cell_type": "code",
   "execution_count": 528,
   "id": "a3667450",
   "metadata": {},
   "outputs": [
    {
     "data": {
      "application/vnd.plotly.v1+json": {
       "config": {
        "plotlyServerURL": "https://plot.ly"
       },
       "data": [
        {
         "labels": [
          "Армения",
          "Австралия",
          "Австралия",
          "Англия",
          "Англия",
          "Аргентина",
          "Аргентина",
          "Армения",
          "Германия ",
          "Германия ",
          "Греция",
          "Греция",
          "Грузия",
          "Грузия",
          "Египет ",
          "Египет ",
          "Испания",
          "Испания",
          "Италия",
          "Италия",
          "Казахстан",
          "Казахстан",
          "Канада",
          "Канада",
          "Кипр ",
          "Кипр ",
          "Норвегия",
          "Норвегия",
          "ОАЭ",
          "ОАЭ",
          "США",
          "США",
          "Тайланд ",
          "Тайланд ",
          "Турция ",
          "Турция ",
          "Франция",
          "Франция",
          "Черногория ",
          "Черногория ",
          "Чехия ",
          "Чехия ",
          "Швеция",
          "Швеция",
          "Шри-Ланка",
          "Шри-Ланка",
          "Южная Корея ",
          "Южная Корея ",
          "Япония",
          "Япония"
         ],
         "type": "pie",
         "values": [
          5,
          4,
          4,
          3,
          5,
          5,
          2,
          2,
          5,
          5,
          5,
          3,
          4,
          5,
          2,
          5,
          5,
          5,
          5,
          5,
          4,
          5,
          5,
          4,
          3,
          4,
          3,
          5,
          4,
          5,
          5,
          5,
          3,
          5,
          4,
          3,
          5,
          5,
          4,
          4,
          5,
          5,
          5,
          3,
          3,
          2,
          5,
          5,
          5,
          4
         ]
        }
       ],
       "layout": {
        "template": {
         "data": {
          "bar": [
           {
            "error_x": {
             "color": "#2a3f5f"
            },
            "error_y": {
             "color": "#2a3f5f"
            },
            "marker": {
             "line": {
              "color": "#E5ECF6",
              "width": 0.5
             }
            },
            "type": "bar"
           }
          ],
          "barpolar": [
           {
            "marker": {
             "line": {
              "color": "#E5ECF6",
              "width": 0.5
             }
            },
            "type": "barpolar"
           }
          ],
          "carpet": [
           {
            "aaxis": {
             "endlinecolor": "#2a3f5f",
             "gridcolor": "white",
             "linecolor": "white",
             "minorgridcolor": "white",
             "startlinecolor": "#2a3f5f"
            },
            "baxis": {
             "endlinecolor": "#2a3f5f",
             "gridcolor": "white",
             "linecolor": "white",
             "minorgridcolor": "white",
             "startlinecolor": "#2a3f5f"
            },
            "type": "carpet"
           }
          ],
          "choropleth": [
           {
            "colorbar": {
             "outlinewidth": 0,
             "ticks": ""
            },
            "type": "choropleth"
           }
          ],
          "contour": [
           {
            "colorbar": {
             "outlinewidth": 0,
             "ticks": ""
            },
            "colorscale": [
             [
              0,
              "#0d0887"
             ],
             [
              0.1111111111111111,
              "#46039f"
             ],
             [
              0.2222222222222222,
              "#7201a8"
             ],
             [
              0.3333333333333333,
              "#9c179e"
             ],
             [
              0.4444444444444444,
              "#bd3786"
             ],
             [
              0.5555555555555556,
              "#d8576b"
             ],
             [
              0.6666666666666666,
              "#ed7953"
             ],
             [
              0.7777777777777778,
              "#fb9f3a"
             ],
             [
              0.8888888888888888,
              "#fdca26"
             ],
             [
              1,
              "#f0f921"
             ]
            ],
            "type": "contour"
           }
          ],
          "contourcarpet": [
           {
            "colorbar": {
             "outlinewidth": 0,
             "ticks": ""
            },
            "type": "contourcarpet"
           }
          ],
          "heatmap": [
           {
            "colorbar": {
             "outlinewidth": 0,
             "ticks": ""
            },
            "colorscale": [
             [
              0,
              "#0d0887"
             ],
             [
              0.1111111111111111,
              "#46039f"
             ],
             [
              0.2222222222222222,
              "#7201a8"
             ],
             [
              0.3333333333333333,
              "#9c179e"
             ],
             [
              0.4444444444444444,
              "#bd3786"
             ],
             [
              0.5555555555555556,
              "#d8576b"
             ],
             [
              0.6666666666666666,
              "#ed7953"
             ],
             [
              0.7777777777777778,
              "#fb9f3a"
             ],
             [
              0.8888888888888888,
              "#fdca26"
             ],
             [
              1,
              "#f0f921"
             ]
            ],
            "type": "heatmap"
           }
          ],
          "heatmapgl": [
           {
            "colorbar": {
             "outlinewidth": 0,
             "ticks": ""
            },
            "colorscale": [
             [
              0,
              "#0d0887"
             ],
             [
              0.1111111111111111,
              "#46039f"
             ],
             [
              0.2222222222222222,
              "#7201a8"
             ],
             [
              0.3333333333333333,
              "#9c179e"
             ],
             [
              0.4444444444444444,
              "#bd3786"
             ],
             [
              0.5555555555555556,
              "#d8576b"
             ],
             [
              0.6666666666666666,
              "#ed7953"
             ],
             [
              0.7777777777777778,
              "#fb9f3a"
             ],
             [
              0.8888888888888888,
              "#fdca26"
             ],
             [
              1,
              "#f0f921"
             ]
            ],
            "type": "heatmapgl"
           }
          ],
          "histogram": [
           {
            "marker": {
             "colorbar": {
              "outlinewidth": 0,
              "ticks": ""
             }
            },
            "type": "histogram"
           }
          ],
          "histogram2d": [
           {
            "colorbar": {
             "outlinewidth": 0,
             "ticks": ""
            },
            "colorscale": [
             [
              0,
              "#0d0887"
             ],
             [
              0.1111111111111111,
              "#46039f"
             ],
             [
              0.2222222222222222,
              "#7201a8"
             ],
             [
              0.3333333333333333,
              "#9c179e"
             ],
             [
              0.4444444444444444,
              "#bd3786"
             ],
             [
              0.5555555555555556,
              "#d8576b"
             ],
             [
              0.6666666666666666,
              "#ed7953"
             ],
             [
              0.7777777777777778,
              "#fb9f3a"
             ],
             [
              0.8888888888888888,
              "#fdca26"
             ],
             [
              1,
              "#f0f921"
             ]
            ],
            "type": "histogram2d"
           }
          ],
          "histogram2dcontour": [
           {
            "colorbar": {
             "outlinewidth": 0,
             "ticks": ""
            },
            "colorscale": [
             [
              0,
              "#0d0887"
             ],
             [
              0.1111111111111111,
              "#46039f"
             ],
             [
              0.2222222222222222,
              "#7201a8"
             ],
             [
              0.3333333333333333,
              "#9c179e"
             ],
             [
              0.4444444444444444,
              "#bd3786"
             ],
             [
              0.5555555555555556,
              "#d8576b"
             ],
             [
              0.6666666666666666,
              "#ed7953"
             ],
             [
              0.7777777777777778,
              "#fb9f3a"
             ],
             [
              0.8888888888888888,
              "#fdca26"
             ],
             [
              1,
              "#f0f921"
             ]
            ],
            "type": "histogram2dcontour"
           }
          ],
          "mesh3d": [
           {
            "colorbar": {
             "outlinewidth": 0,
             "ticks": ""
            },
            "type": "mesh3d"
           }
          ],
          "parcoords": [
           {
            "line": {
             "colorbar": {
              "outlinewidth": 0,
              "ticks": ""
             }
            },
            "type": "parcoords"
           }
          ],
          "pie": [
           {
            "automargin": true,
            "type": "pie"
           }
          ],
          "scatter": [
           {
            "marker": {
             "colorbar": {
              "outlinewidth": 0,
              "ticks": ""
             }
            },
            "type": "scatter"
           }
          ],
          "scatter3d": [
           {
            "line": {
             "colorbar": {
              "outlinewidth": 0,
              "ticks": ""
             }
            },
            "marker": {
             "colorbar": {
              "outlinewidth": 0,
              "ticks": ""
             }
            },
            "type": "scatter3d"
           }
          ],
          "scattercarpet": [
           {
            "marker": {
             "colorbar": {
              "outlinewidth": 0,
              "ticks": ""
             }
            },
            "type": "scattercarpet"
           }
          ],
          "scattergeo": [
           {
            "marker": {
             "colorbar": {
              "outlinewidth": 0,
              "ticks": ""
             }
            },
            "type": "scattergeo"
           }
          ],
          "scattergl": [
           {
            "marker": {
             "colorbar": {
              "outlinewidth": 0,
              "ticks": ""
             }
            },
            "type": "scattergl"
           }
          ],
          "scattermapbox": [
           {
            "marker": {
             "colorbar": {
              "outlinewidth": 0,
              "ticks": ""
             }
            },
            "type": "scattermapbox"
           }
          ],
          "scatterpolar": [
           {
            "marker": {
             "colorbar": {
              "outlinewidth": 0,
              "ticks": ""
             }
            },
            "type": "scatterpolar"
           }
          ],
          "scatterpolargl": [
           {
            "marker": {
             "colorbar": {
              "outlinewidth": 0,
              "ticks": ""
             }
            },
            "type": "scatterpolargl"
           }
          ],
          "scatterternary": [
           {
            "marker": {
             "colorbar": {
              "outlinewidth": 0,
              "ticks": ""
             }
            },
            "type": "scatterternary"
           }
          ],
          "surface": [
           {
            "colorbar": {
             "outlinewidth": 0,
             "ticks": ""
            },
            "colorscale": [
             [
              0,
              "#0d0887"
             ],
             [
              0.1111111111111111,
              "#46039f"
             ],
             [
              0.2222222222222222,
              "#7201a8"
             ],
             [
              0.3333333333333333,
              "#9c179e"
             ],
             [
              0.4444444444444444,
              "#bd3786"
             ],
             [
              0.5555555555555556,
              "#d8576b"
             ],
             [
              0.6666666666666666,
              "#ed7953"
             ],
             [
              0.7777777777777778,
              "#fb9f3a"
             ],
             [
              0.8888888888888888,
              "#fdca26"
             ],
             [
              1,
              "#f0f921"
             ]
            ],
            "type": "surface"
           }
          ],
          "table": [
           {
            "cells": {
             "fill": {
              "color": "#EBF0F8"
             },
             "line": {
              "color": "white"
             }
            },
            "header": {
             "fill": {
              "color": "#C8D4E3"
             },
             "line": {
              "color": "white"
             }
            },
            "type": "table"
           }
          ]
         },
         "layout": {
          "annotationdefaults": {
           "arrowcolor": "#2a3f5f",
           "arrowhead": 0,
           "arrowwidth": 1
          },
          "autotypenumbers": "strict",
          "coloraxis": {
           "colorbar": {
            "outlinewidth": 0,
            "ticks": ""
           }
          },
          "colorscale": {
           "diverging": [
            [
             0,
             "#8e0152"
            ],
            [
             0.1,
             "#c51b7d"
            ],
            [
             0.2,
             "#de77ae"
            ],
            [
             0.3,
             "#f1b6da"
            ],
            [
             0.4,
             "#fde0ef"
            ],
            [
             0.5,
             "#f7f7f7"
            ],
            [
             0.6,
             "#e6f5d0"
            ],
            [
             0.7,
             "#b8e186"
            ],
            [
             0.8,
             "#7fbc41"
            ],
            [
             0.9,
             "#4d9221"
            ],
            [
             1,
             "#276419"
            ]
           ],
           "sequential": [
            [
             0,
             "#0d0887"
            ],
            [
             0.1111111111111111,
             "#46039f"
            ],
            [
             0.2222222222222222,
             "#7201a8"
            ],
            [
             0.3333333333333333,
             "#9c179e"
            ],
            [
             0.4444444444444444,
             "#bd3786"
            ],
            [
             0.5555555555555556,
             "#d8576b"
            ],
            [
             0.6666666666666666,
             "#ed7953"
            ],
            [
             0.7777777777777778,
             "#fb9f3a"
            ],
            [
             0.8888888888888888,
             "#fdca26"
            ],
            [
             1,
             "#f0f921"
            ]
           ],
           "sequentialminus": [
            [
             0,
             "#0d0887"
            ],
            [
             0.1111111111111111,
             "#46039f"
            ],
            [
             0.2222222222222222,
             "#7201a8"
            ],
            [
             0.3333333333333333,
             "#9c179e"
            ],
            [
             0.4444444444444444,
             "#bd3786"
            ],
            [
             0.5555555555555556,
             "#d8576b"
            ],
            [
             0.6666666666666666,
             "#ed7953"
            ],
            [
             0.7777777777777778,
             "#fb9f3a"
            ],
            [
             0.8888888888888888,
             "#fdca26"
            ],
            [
             1,
             "#f0f921"
            ]
           ]
          },
          "colorway": [
           "#636efa",
           "#EF553B",
           "#00cc96",
           "#ab63fa",
           "#FFA15A",
           "#19d3f3",
           "#FF6692",
           "#B6E880",
           "#FF97FF",
           "#FECB52"
          ],
          "font": {
           "color": "#2a3f5f"
          },
          "geo": {
           "bgcolor": "white",
           "lakecolor": "white",
           "landcolor": "#E5ECF6",
           "showlakes": true,
           "showland": true,
           "subunitcolor": "white"
          },
          "hoverlabel": {
           "align": "left"
          },
          "hovermode": "closest",
          "mapbox": {
           "style": "light"
          },
          "paper_bgcolor": "white",
          "plot_bgcolor": "#E5ECF6",
          "polar": {
           "angularaxis": {
            "gridcolor": "white",
            "linecolor": "white",
            "ticks": ""
           },
           "bgcolor": "#E5ECF6",
           "radialaxis": {
            "gridcolor": "white",
            "linecolor": "white",
            "ticks": ""
           }
          },
          "scene": {
           "xaxis": {
            "backgroundcolor": "#E5ECF6",
            "gridcolor": "white",
            "gridwidth": 2,
            "linecolor": "white",
            "showbackground": true,
            "ticks": "",
            "zerolinecolor": "white"
           },
           "yaxis": {
            "backgroundcolor": "#E5ECF6",
            "gridcolor": "white",
            "gridwidth": 2,
            "linecolor": "white",
            "showbackground": true,
            "ticks": "",
            "zerolinecolor": "white"
           },
           "zaxis": {
            "backgroundcolor": "#E5ECF6",
            "gridcolor": "white",
            "gridwidth": 2,
            "linecolor": "white",
            "showbackground": true,
            "ticks": "",
            "zerolinecolor": "white"
           }
          },
          "shapedefaults": {
           "line": {
            "color": "#2a3f5f"
           }
          },
          "ternary": {
           "aaxis": {
            "gridcolor": "white",
            "linecolor": "white",
            "ticks": ""
           },
           "baxis": {
            "gridcolor": "white",
            "linecolor": "white",
            "ticks": ""
           },
           "bgcolor": "#E5ECF6",
           "caxis": {
            "gridcolor": "white",
            "linecolor": "white",
            "ticks": ""
           }
          },
          "title": {
           "x": 0.05
          },
          "xaxis": {
           "automargin": true,
           "gridcolor": "white",
           "linecolor": "white",
           "ticks": "",
           "title": {
            "standoff": 15
           },
           "zerolinecolor": "white",
           "zerolinewidth": 2
          },
          "yaxis": {
           "automargin": true,
           "gridcolor": "white",
           "linecolor": "white",
           "ticks": "",
           "title": {
            "standoff": 15
           },
           "zerolinecolor": "white",
           "zerolinewidth": 2
          }
         }
        }
       }
      },
      "text/html": [
       "<div>                            <div id=\"b4977070-ac0c-4fe4-a84a-69b65ef4e782\" class=\"plotly-graph-div\" style=\"height:525px; width:100%;\"></div>            <script type=\"text/javascript\">                require([\"plotly\"], function(Plotly) {                    window.PLOTLYENV=window.PLOTLYENV || {};                                    if (document.getElementById(\"b4977070-ac0c-4fe4-a84a-69b65ef4e782\")) {                    Plotly.newPlot(                        \"b4977070-ac0c-4fe4-a84a-69b65ef4e782\",                        [{\"labels\": [\"\\u0410\\u0440\\u043c\\u0435\\u043d\\u0438\\u044f\", \"\\u0410\\u0432\\u0441\\u0442\\u0440\\u0430\\u043b\\u0438\\u044f\", \"\\u0410\\u0432\\u0441\\u0442\\u0440\\u0430\\u043b\\u0438\\u044f\", \"\\u0410\\u043d\\u0433\\u043b\\u0438\\u044f\", \"\\u0410\\u043d\\u0433\\u043b\\u0438\\u044f\", \"\\u0410\\u0440\\u0433\\u0435\\u043d\\u0442\\u0438\\u043d\\u0430\", \"\\u0410\\u0440\\u0433\\u0435\\u043d\\u0442\\u0438\\u043d\\u0430\", \"\\u0410\\u0440\\u043c\\u0435\\u043d\\u0438\\u044f\", \"\\u0413\\u0435\\u0440\\u043c\\u0430\\u043d\\u0438\\u044f \", \"\\u0413\\u0435\\u0440\\u043c\\u0430\\u043d\\u0438\\u044f \", \"\\u0413\\u0440\\u0435\\u0446\\u0438\\u044f\", \"\\u0413\\u0440\\u0435\\u0446\\u0438\\u044f\", \"\\u0413\\u0440\\u0443\\u0437\\u0438\\u044f\", \"\\u0413\\u0440\\u0443\\u0437\\u0438\\u044f\", \"\\u0415\\u0433\\u0438\\u043f\\u0435\\u0442 \", \"\\u0415\\u0433\\u0438\\u043f\\u0435\\u0442 \", \"\\u0418\\u0441\\u043f\\u0430\\u043d\\u0438\\u044f\", \"\\u0418\\u0441\\u043f\\u0430\\u043d\\u0438\\u044f\", \"\\u0418\\u0442\\u0430\\u043b\\u0438\\u044f\", \"\\u0418\\u0442\\u0430\\u043b\\u0438\\u044f\", \"\\u041a\\u0430\\u0437\\u0430\\u0445\\u0441\\u0442\\u0430\\u043d\", \"\\u041a\\u0430\\u0437\\u0430\\u0445\\u0441\\u0442\\u0430\\u043d\", \"\\u041a\\u0430\\u043d\\u0430\\u0434\\u0430\", \"\\u041a\\u0430\\u043d\\u0430\\u0434\\u0430\", \"\\u041a\\u0438\\u043f\\u0440 \", \"\\u041a\\u0438\\u043f\\u0440 \", \"\\u041d\\u043e\\u0440\\u0432\\u0435\\u0433\\u0438\\u044f\", \"\\u041d\\u043e\\u0440\\u0432\\u0435\\u0433\\u0438\\u044f\", \"\\u041e\\u0410\\u042d\", \"\\u041e\\u0410\\u042d\", \"\\u0421\\u0428\\u0410\", \"\\u0421\\u0428\\u0410\", \"\\u0422\\u0430\\u0439\\u043b\\u0430\\u043d\\u0434 \", \"\\u0422\\u0430\\u0439\\u043b\\u0430\\u043d\\u0434 \", \"\\u0422\\u0443\\u0440\\u0446\\u0438\\u044f \", \"\\u0422\\u0443\\u0440\\u0446\\u0438\\u044f \", \"\\u0424\\u0440\\u0430\\u043d\\u0446\\u0438\\u044f\", \"\\u0424\\u0440\\u0430\\u043d\\u0446\\u0438\\u044f\", \"\\u0427\\u0435\\u0440\\u043d\\u043e\\u0433\\u043e\\u0440\\u0438\\u044f \", \"\\u0427\\u0435\\u0440\\u043d\\u043e\\u0433\\u043e\\u0440\\u0438\\u044f \", \"\\u0427\\u0435\\u0445\\u0438\\u044f \", \"\\u0427\\u0435\\u0445\\u0438\\u044f \", \"\\u0428\\u0432\\u0435\\u0446\\u0438\\u044f\", \"\\u0428\\u0432\\u0435\\u0446\\u0438\\u044f\", \"\\u0428\\u0440\\u0438-\\u041b\\u0430\\u043d\\u043a\\u0430\", \"\\u0428\\u0440\\u0438-\\u041b\\u0430\\u043d\\u043a\\u0430\", \"\\u042e\\u0436\\u043d\\u0430\\u044f \\u041a\\u043e\\u0440\\u0435\\u044f \", \"\\u042e\\u0436\\u043d\\u0430\\u044f \\u041a\\u043e\\u0440\\u0435\\u044f \", \"\\u042f\\u043f\\u043e\\u043d\\u0438\\u044f\", \"\\u042f\\u043f\\u043e\\u043d\\u0438\\u044f\"], \"type\": \"pie\", \"values\": [5, 4, 4, 3, 5, 5, 2, 2, 5, 5, 5, 3, 4, 5, 2, 5, 5, 5, 5, 5, 4, 5, 5, 4, 3, 4, 3, 5, 4, 5, 5, 5, 3, 5, 4, 3, 5, 5, 4, 4, 5, 5, 5, 3, 3, 2, 5, 5, 5, 4]}],                        {\"template\": {\"data\": {\"bar\": [{\"error_x\": {\"color\": \"#2a3f5f\"}, \"error_y\": {\"color\": \"#2a3f5f\"}, \"marker\": {\"line\": {\"color\": \"#E5ECF6\", \"width\": 0.5}}, \"type\": \"bar\"}], \"barpolar\": [{\"marker\": {\"line\": {\"color\": \"#E5ECF6\", \"width\": 0.5}}, \"type\": \"barpolar\"}], \"carpet\": [{\"aaxis\": {\"endlinecolor\": \"#2a3f5f\", \"gridcolor\": \"white\", \"linecolor\": \"white\", \"minorgridcolor\": \"white\", \"startlinecolor\": \"#2a3f5f\"}, \"baxis\": {\"endlinecolor\": \"#2a3f5f\", \"gridcolor\": \"white\", \"linecolor\": \"white\", \"minorgridcolor\": \"white\", \"startlinecolor\": \"#2a3f5f\"}, \"type\": \"carpet\"}], \"choropleth\": [{\"colorbar\": {\"outlinewidth\": 0, \"ticks\": \"\"}, \"type\": \"choropleth\"}], \"contour\": [{\"colorbar\": {\"outlinewidth\": 0, \"ticks\": \"\"}, \"colorscale\": [[0.0, \"#0d0887\"], [0.1111111111111111, \"#46039f\"], [0.2222222222222222, \"#7201a8\"], [0.3333333333333333, \"#9c179e\"], [0.4444444444444444, \"#bd3786\"], [0.5555555555555556, \"#d8576b\"], [0.6666666666666666, \"#ed7953\"], [0.7777777777777778, \"#fb9f3a\"], [0.8888888888888888, \"#fdca26\"], [1.0, \"#f0f921\"]], \"type\": \"contour\"}], \"contourcarpet\": [{\"colorbar\": {\"outlinewidth\": 0, \"ticks\": \"\"}, \"type\": \"contourcarpet\"}], \"heatmap\": [{\"colorbar\": {\"outlinewidth\": 0, \"ticks\": \"\"}, \"colorscale\": [[0.0, \"#0d0887\"], [0.1111111111111111, \"#46039f\"], [0.2222222222222222, \"#7201a8\"], [0.3333333333333333, \"#9c179e\"], [0.4444444444444444, \"#bd3786\"], [0.5555555555555556, \"#d8576b\"], [0.6666666666666666, \"#ed7953\"], [0.7777777777777778, \"#fb9f3a\"], [0.8888888888888888, \"#fdca26\"], [1.0, \"#f0f921\"]], \"type\": \"heatmap\"}], \"heatmapgl\": [{\"colorbar\": {\"outlinewidth\": 0, \"ticks\": \"\"}, \"colorscale\": [[0.0, \"#0d0887\"], [0.1111111111111111, \"#46039f\"], [0.2222222222222222, \"#7201a8\"], [0.3333333333333333, \"#9c179e\"], [0.4444444444444444, \"#bd3786\"], [0.5555555555555556, \"#d8576b\"], [0.6666666666666666, \"#ed7953\"], [0.7777777777777778, \"#fb9f3a\"], [0.8888888888888888, \"#fdca26\"], [1.0, \"#f0f921\"]], \"type\": \"heatmapgl\"}], \"histogram\": [{\"marker\": {\"colorbar\": {\"outlinewidth\": 0, \"ticks\": \"\"}}, \"type\": \"histogram\"}], \"histogram2d\": [{\"colorbar\": {\"outlinewidth\": 0, \"ticks\": \"\"}, \"colorscale\": [[0.0, \"#0d0887\"], [0.1111111111111111, \"#46039f\"], [0.2222222222222222, \"#7201a8\"], [0.3333333333333333, \"#9c179e\"], [0.4444444444444444, \"#bd3786\"], [0.5555555555555556, \"#d8576b\"], [0.6666666666666666, \"#ed7953\"], [0.7777777777777778, \"#fb9f3a\"], [0.8888888888888888, \"#fdca26\"], [1.0, \"#f0f921\"]], \"type\": \"histogram2d\"}], \"histogram2dcontour\": [{\"colorbar\": {\"outlinewidth\": 0, \"ticks\": \"\"}, \"colorscale\": [[0.0, \"#0d0887\"], [0.1111111111111111, \"#46039f\"], [0.2222222222222222, \"#7201a8\"], [0.3333333333333333, \"#9c179e\"], [0.4444444444444444, \"#bd3786\"], [0.5555555555555556, \"#d8576b\"], [0.6666666666666666, \"#ed7953\"], [0.7777777777777778, \"#fb9f3a\"], [0.8888888888888888, \"#fdca26\"], [1.0, \"#f0f921\"]], \"type\": \"histogram2dcontour\"}], \"mesh3d\": [{\"colorbar\": {\"outlinewidth\": 0, \"ticks\": \"\"}, \"type\": \"mesh3d\"}], \"parcoords\": [{\"line\": {\"colorbar\": {\"outlinewidth\": 0, \"ticks\": \"\"}}, \"type\": \"parcoords\"}], \"pie\": [{\"automargin\": true, \"type\": \"pie\"}], \"scatter\": [{\"marker\": {\"colorbar\": {\"outlinewidth\": 0, \"ticks\": \"\"}}, \"type\": \"scatter\"}], \"scatter3d\": [{\"line\": {\"colorbar\": {\"outlinewidth\": 0, \"ticks\": \"\"}}, \"marker\": {\"colorbar\": {\"outlinewidth\": 0, \"ticks\": \"\"}}, \"type\": \"scatter3d\"}], \"scattercarpet\": [{\"marker\": {\"colorbar\": {\"outlinewidth\": 0, \"ticks\": \"\"}}, \"type\": \"scattercarpet\"}], \"scattergeo\": [{\"marker\": {\"colorbar\": {\"outlinewidth\": 0, \"ticks\": \"\"}}, \"type\": \"scattergeo\"}], \"scattergl\": [{\"marker\": {\"colorbar\": {\"outlinewidth\": 0, \"ticks\": \"\"}}, \"type\": \"scattergl\"}], \"scattermapbox\": [{\"marker\": {\"colorbar\": {\"outlinewidth\": 0, \"ticks\": \"\"}}, \"type\": \"scattermapbox\"}], \"scatterpolar\": [{\"marker\": {\"colorbar\": {\"outlinewidth\": 0, \"ticks\": \"\"}}, \"type\": \"scatterpolar\"}], \"scatterpolargl\": [{\"marker\": {\"colorbar\": {\"outlinewidth\": 0, \"ticks\": \"\"}}, \"type\": \"scatterpolargl\"}], \"scatterternary\": [{\"marker\": {\"colorbar\": {\"outlinewidth\": 0, \"ticks\": \"\"}}, \"type\": \"scatterternary\"}], \"surface\": [{\"colorbar\": {\"outlinewidth\": 0, \"ticks\": \"\"}, \"colorscale\": [[0.0, \"#0d0887\"], [0.1111111111111111, \"#46039f\"], [0.2222222222222222, \"#7201a8\"], [0.3333333333333333, \"#9c179e\"], [0.4444444444444444, \"#bd3786\"], [0.5555555555555556, \"#d8576b\"], [0.6666666666666666, \"#ed7953\"], [0.7777777777777778, \"#fb9f3a\"], [0.8888888888888888, \"#fdca26\"], [1.0, \"#f0f921\"]], \"type\": \"surface\"}], \"table\": [{\"cells\": {\"fill\": {\"color\": \"#EBF0F8\"}, \"line\": {\"color\": \"white\"}}, \"header\": {\"fill\": {\"color\": \"#C8D4E3\"}, \"line\": {\"color\": \"white\"}}, \"type\": \"table\"}]}, \"layout\": {\"annotationdefaults\": {\"arrowcolor\": \"#2a3f5f\", \"arrowhead\": 0, \"arrowwidth\": 1}, \"autotypenumbers\": \"strict\", \"coloraxis\": {\"colorbar\": {\"outlinewidth\": 0, \"ticks\": \"\"}}, \"colorscale\": {\"diverging\": [[0, \"#8e0152\"], [0.1, \"#c51b7d\"], [0.2, \"#de77ae\"], [0.3, \"#f1b6da\"], [0.4, \"#fde0ef\"], [0.5, \"#f7f7f7\"], [0.6, \"#e6f5d0\"], [0.7, \"#b8e186\"], [0.8, \"#7fbc41\"], [0.9, \"#4d9221\"], [1, \"#276419\"]], \"sequential\": [[0.0, \"#0d0887\"], [0.1111111111111111, \"#46039f\"], [0.2222222222222222, \"#7201a8\"], [0.3333333333333333, \"#9c179e\"], [0.4444444444444444, \"#bd3786\"], [0.5555555555555556, \"#d8576b\"], [0.6666666666666666, \"#ed7953\"], [0.7777777777777778, \"#fb9f3a\"], [0.8888888888888888, \"#fdca26\"], [1.0, \"#f0f921\"]], \"sequentialminus\": [[0.0, \"#0d0887\"], [0.1111111111111111, \"#46039f\"], [0.2222222222222222, \"#7201a8\"], [0.3333333333333333, \"#9c179e\"], [0.4444444444444444, \"#bd3786\"], [0.5555555555555556, \"#d8576b\"], [0.6666666666666666, \"#ed7953\"], [0.7777777777777778, \"#fb9f3a\"], [0.8888888888888888, \"#fdca26\"], [1.0, \"#f0f921\"]]}, \"colorway\": [\"#636efa\", \"#EF553B\", \"#00cc96\", \"#ab63fa\", \"#FFA15A\", \"#19d3f3\", \"#FF6692\", \"#B6E880\", \"#FF97FF\", \"#FECB52\"], \"font\": {\"color\": \"#2a3f5f\"}, \"geo\": {\"bgcolor\": \"white\", \"lakecolor\": \"white\", \"landcolor\": \"#E5ECF6\", \"showlakes\": true, \"showland\": true, \"subunitcolor\": \"white\"}, \"hoverlabel\": {\"align\": \"left\"}, \"hovermode\": \"closest\", \"mapbox\": {\"style\": \"light\"}, \"paper_bgcolor\": \"white\", \"plot_bgcolor\": \"#E5ECF6\", \"polar\": {\"angularaxis\": {\"gridcolor\": \"white\", \"linecolor\": \"white\", \"ticks\": \"\"}, \"bgcolor\": \"#E5ECF6\", \"radialaxis\": {\"gridcolor\": \"white\", \"linecolor\": \"white\", \"ticks\": \"\"}}, \"scene\": {\"xaxis\": {\"backgroundcolor\": \"#E5ECF6\", \"gridcolor\": \"white\", \"gridwidth\": 2, \"linecolor\": \"white\", \"showbackground\": true, \"ticks\": \"\", \"zerolinecolor\": \"white\"}, \"yaxis\": {\"backgroundcolor\": \"#E5ECF6\", \"gridcolor\": \"white\", \"gridwidth\": 2, \"linecolor\": \"white\", \"showbackground\": true, \"ticks\": \"\", \"zerolinecolor\": \"white\"}, \"zaxis\": {\"backgroundcolor\": \"#E5ECF6\", \"gridcolor\": \"white\", \"gridwidth\": 2, \"linecolor\": \"white\", \"showbackground\": true, \"ticks\": \"\", \"zerolinecolor\": \"white\"}}, \"shapedefaults\": {\"line\": {\"color\": \"#2a3f5f\"}}, \"ternary\": {\"aaxis\": {\"gridcolor\": \"white\", \"linecolor\": \"white\", \"ticks\": \"\"}, \"baxis\": {\"gridcolor\": \"white\", \"linecolor\": \"white\", \"ticks\": \"\"}, \"bgcolor\": \"#E5ECF6\", \"caxis\": {\"gridcolor\": \"white\", \"linecolor\": \"white\", \"ticks\": \"\"}}, \"title\": {\"x\": 0.05}, \"xaxis\": {\"automargin\": true, \"gridcolor\": \"white\", \"linecolor\": \"white\", \"ticks\": \"\", \"title\": {\"standoff\": 15}, \"zerolinecolor\": \"white\", \"zerolinewidth\": 2}, \"yaxis\": {\"automargin\": true, \"gridcolor\": \"white\", \"linecolor\": \"white\", \"ticks\": \"\", \"title\": {\"standoff\": 15}, \"zerolinecolor\": \"white\", \"zerolinewidth\": 2}}}},                        {\"responsive\": true}                    ).then(function(){\n",
       "                            \n",
       "var gd = document.getElementById('b4977070-ac0c-4fe4-a84a-69b65ef4e782');\n",
       "var x = new MutationObserver(function (mutations, observer) {{\n",
       "        var display = window.getComputedStyle(gd).display;\n",
       "        if (!display || display === 'none') {{\n",
       "            console.log([gd, 'removed!']);\n",
       "            Plotly.purge(gd);\n",
       "            observer.disconnect();\n",
       "        }}\n",
       "}});\n",
       "\n",
       "// Listen for the removal of the full notebook cells\n",
       "var notebookContainer = gd.closest('#notebook-container');\n",
       "if (notebookContainer) {{\n",
       "    x.observe(notebookContainer, {childList: true});\n",
       "}}\n",
       "\n",
       "// Listen for the clearing of the current output cell\n",
       "var outputEl = gd.closest('.output');\n",
       "if (outputEl) {{\n",
       "    x.observe(outputEl, {childList: true});\n",
       "}}\n",
       "\n",
       "                        })                };                });            </script>        </div>"
      ]
     },
     "metadata": {},
     "output_type": "display_data"
    }
   ],
   "source": [
    "fig = go.Figure()\n",
    "fig.add_trace(go.Pie(values= gen_all['transport '], labels=gen_all['country']))\n",
    "fig.show()"
   ]
  }
 ],
 "metadata": {
  "kernelspec": {
   "display_name": "Python 3 (ipykernel)",
   "language": "python",
   "name": "python3"
  },
  "language_info": {
   "codemirror_mode": {
    "name": "ipython",
    "version": 3
   },
   "file_extension": ".py",
   "mimetype": "text/x-python",
   "name": "python",
   "nbconvert_exporter": "python",
   "pygments_lexer": "ipython3",
   "version": "3.10.9"
  }
 },
 "nbformat": 4,
 "nbformat_minor": 5
}
